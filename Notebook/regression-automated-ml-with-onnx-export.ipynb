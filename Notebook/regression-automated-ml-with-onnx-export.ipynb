{
  "cells": [
    {
      "cell_type": "markdown",
      "source": [
        "Copyright (c) Microsoft Corporation. All rights reserved."
      ],
      "metadata": {}
    },
    {
      "cell_type": "markdown",
      "source": [
        "![Impressions](https://PixelServer20190423114238.azurewebsites.net/api/impressions/NotebookVM/tutorials/regression-part2-automated-ml.png)"
      ],
      "metadata": {}
    },
    {
      "cell_type": "markdown",
      "source": [
        "# Tutorial: Use automated machine learning to predict taxi fares"
      ],
      "metadata": {}
    },
    {
      "cell_type": "markdown",
      "source": [
        "In this tutorial, you use automated machine learning in Azure Machine Learning service to create a regression model to predict NYC taxi fare prices. This process accepts training data and configuration settings, and automatically iterates through combinations of different feature normalization/standardization methods, models, and hyperparameter settings to arrive at the best model.\n",
        "\n",
        "In this tutorial you learn the following tasks:\n",
        "\n",
        "* Download, transform, and clean data using Azure Open Datasets\n",
        "* Train an automated machine learning regression model\n",
        "* Calculate model accuracy\n",
        "\n",
        "If you donâ€™t have an Azure subscription, create a free account before you begin. Try the [free or paid version](https://aka.ms/AMLFree) of Azure Machine Learning service today."
      ],
      "metadata": {}
    },
    {
      "cell_type": "markdown",
      "source": [
        "## Prerequisites"
      ],
      "metadata": {}
    },
    {
      "cell_type": "markdown",
      "source": [
        "* Complete the [setup tutorial](https://docs.microsoft.com/azure/machine-learning/service/tutorial-1st-experiment-sdk-setup) if you don't already have an Azure Machine Learning service workspace or notebook virtual machine.\n",
        "* After you complete the setup tutorial, open the **tutorials/regression-automated-ml.ipynb** notebook using the same notebook server.\n",
        "\n",
        "This tutorial is also available on [GitHub](https://github.com/Azure/MachineLearningNotebooks/tree/master/tutorials) if you wish to run it in your own [local environment](https://github.com/Azure/MachineLearningNotebooks/blob/master/how-to-use-azureml/automated-machine-learning/README.md#setup-using-a-local-conda-environment)."
      ],
      "metadata": {}
    },
    {
      "cell_type": "markdown",
      "source": [
        "## Download and prepare data"
      ],
      "metadata": {}
    },
    {
      "cell_type": "markdown",
      "source": [
        "Import the necessary packages. The Open Datasets package contains a class representing each data source (`NycTlcGreen` for example) to easily filter date parameters before downloading."
      ],
      "metadata": {}
    },
    {
      "cell_type": "code",
      "source": [
        "from azureml.opendatasets import NycTlcGreen\n",
        "import pandas as pd\n",
        "from azureml.core import Dataset\n",
        "from datetime import datetime\n",
        "from dateutil.relativedelta import relativedelta"
      ],
      "outputs": [],
      "execution_count": 1,
      "metadata": {
        "gather": {
          "logged": 1633859340125
        }
      }
    },
    {
      "cell_type": "markdown",
      "source": [
        "Begin by creating a dataframe to hold the taxi data. Then preview the data."
      ],
      "metadata": {}
    },
    {
      "cell_type": "code",
      "source": [
        "# Creating dataframe to hold the taxi data for one month\n",
        "green_taxi_df = pd.DataFrame([])\n",
        "start = datetime.strptime(\"1/1/2015\",\"%m/%d/%Y\")\n",
        "end = datetime.strptime(\"1/31/2015\",\"%m/%d/%Y\")\n",
        "\n",
        "for sample_month in range(12):\n",
        "    temp_df_green = NycTlcGreen(start + relativedelta(months=sample_month), end + relativedelta(months=sample_month)) \\\n",
        "        .to_pandas_dataframe()\n",
        "    green_taxi_df = green_taxi_df.append(temp_df_green.sample(2000))\n",
        "\n",
        "green_taxi_df.head(10)\n",
        "\n",
        "# green_taxi_dataset = Dataset.Tabular.from_parquet_files(path=\"https://automlsamplenotebookdata.blob.core.windows.net/automl-sample-notebook-data/green_taxi_data.parquet\")\n",
        "# green_taxi_df = green_taxi_dataset.to_pandas_dataframe()\n",
        "# green_taxi_df.head(10)"
      ],
      "outputs": [
        {
          "output_type": "stream",
          "name": "stdout",
          "text": "[Info] read from /tmp/tmpiv677rz6/https%3A/%2Fazureopendatastorage.azurefd.net/nyctlc/green/puYear=2015/puMonth=1/part-00175-tid-4753095944193949832-fee7e113-666d-4114-9fcb-bcd3046479f3-2745-1.c000.snappy.parquet\n[Info] read from /tmp/tmpmtapjsfs/https%3A/%2Fazureopendatastorage.azurefd.net/nyctlc/green/puYear=2015/puMonth=2/part-00007-tid-4753095944193949832-fee7e113-666d-4114-9fcb-bcd3046479f3-2577-1.c000.snappy.parquet\n[Info] read from /tmp/tmpchhdm6_e/https%3A/%2Fazureopendatastorage.azurefd.net/nyctlc/green/puYear=2015/puMonth=3/part-00133-tid-4753095944193949832-fee7e113-666d-4114-9fcb-bcd3046479f3-2703-1.c000.snappy.parquet\n[Info] read from /tmp/tmp6z_feaem/https%3A/%2Fazureopendatastorage.azurefd.net/nyctlc/green/puYear=2015/puMonth=4/part-00073-tid-4753095944193949832-fee7e113-666d-4114-9fcb-bcd3046479f3-2643-1.c000.snappy.parquet\n[Info] read from /tmp/tmp0ue7ia_i/https%3A/%2Fazureopendatastorage.azurefd.net/nyctlc/green/puYear=2015/puMonth=5/part-00177-tid-4753095944193949832-fee7e113-666d-4114-9fcb-bcd3046479f3-2747-1.c000.snappy.parquet\n[Info] read from /tmp/tmpywm6be_u/https%3A/%2Fazureopendatastorage.azurefd.net/nyctlc/green/puYear=2015/puMonth=6/part-00156-tid-4753095944193949832-fee7e113-666d-4114-9fcb-bcd3046479f3-2726-2.c000.snappy.parquet\n[Info] read from /tmp/tmpxioxe8ob/https%3A/%2Fazureopendatastorage.azurefd.net/nyctlc/green/puYear=2015/puMonth=7/part-00147-tid-4753095944193949832-fee7e113-666d-4114-9fcb-bcd3046479f3-2717-1.c000.snappy.parquet\n[Info] read from /tmp/tmp4c2hqdpt/https%3A/%2Fazureopendatastorage.azurefd.net/nyctlc/green/puYear=2015/puMonth=8/part-00074-tid-4753095944193949832-fee7e113-666d-4114-9fcb-bcd3046479f3-2644-1.c000.snappy.parquet\n[Info] read from /tmp/tmpkz337h3r/https%3A/%2Fazureopendatastorage.azurefd.net/nyctlc/green/puYear=2015/puMonth=9/part-00092-tid-4753095944193949832-fee7e113-666d-4114-9fcb-bcd3046479f3-2662-1.c000.snappy.parquet\n[Info] read from /tmp/tmptniy48zx/https%3A/%2Fazureopendatastorage.azurefd.net/nyctlc/green/puYear=2015/puMonth=10/part-00105-tid-4753095944193949832-fee7e113-666d-4114-9fcb-bcd3046479f3-2675-1.c000.snappy.parquet\n[Info] read from /tmp/tmp1nw71c_a/https%3A/%2Fazureopendatastorage.azurefd.net/nyctlc/green/puYear=2015/puMonth=11/part-00089-tid-4753095944193949832-fee7e113-666d-4114-9fcb-bcd3046479f3-2659-1.c000.snappy.parquet\n[Info] read from /tmp/tmpu8_g9w_s/https%3A/%2Fazureopendatastorage.azurefd.net/nyctlc/green/puYear=2015/puMonth=12/part-00020-tid-4753095944193949832-fee7e113-666d-4114-9fcb-bcd3046479f3-2590-1.c000.snappy.parquet\n"
        },
        {
          "output_type": "execute_result",
          "execution_count": 2,
          "data": {
            "text/plain": "         vendorID  lpepPickupDatetime lpepDropoffDatetime  passengerCount  \\\n1410483         1 2015-01-12 18:30:43 2015-01-12 18:54:33               1   \n648426          1 2015-01-04 12:24:01 2015-01-04 12:28:24               1   \n758981          2 2015-01-17 12:02:28 2015-01-17 12:06:03               1   \n1309482         1 2015-01-16 08:55:05 2015-01-16 09:26:21               1   \n58992           2 2015-01-10 08:49:33 2015-01-10 08:56:11               1   \n15394           2 2015-01-02 01:00:08 2015-01-02 01:04:26               2   \n1237751         2 2015-01-28 19:24:01 2015-01-28 19:36:25               1   \n166729          2 2015-01-14 00:01:37 2015-01-14 00:05:21               1   \n569121          1 2015-01-22 09:15:29 2015-01-22 09:47:04               1   \n562115          2 2015-01-22 06:19:15 2015-01-22 06:51:27               2   \n\n         tripDistance puLocationId doLocationId  pickupLongitude  \\\n1410483          6.30         None         None       -73.961174   \n648426           0.90         None         None       -73.939804   \n758981           0.69         None         None       -73.926544   \n1309482          3.30         None         None       -73.950851   \n58992            1.21         None         None       -73.937218   \n15394            1.11         None         None       -73.921295   \n1237751          1.75         None         None       -73.992874   \n166729           0.95         None         None       -73.917694   \n569121           4.00         None         None       -73.944695   \n562115          11.56         None         None       -73.959961   \n\n         pickupLatitude  dropoffLongitude  ...  paymentType  fareAmount extra  \\\n1410483       40.806816        -73.996101  ...            2        22.0   1.0   \n648426        40.841301        -73.947739  ...            2         5.5   0.0   \n758981        40.759155        -73.919922  ...            1         4.5   0.0   \n1309482       40.791847        -73.975517  ...            1        20.0   0.0   \n58992         40.810345        -73.945610  ...            1         7.0   0.0   \n15394         40.766842        -73.906410  ...            2         5.5   0.5   \n1237751       40.692959        -73.970741  ...            1        10.0   1.0   \n166729        40.770168        -73.908134  ...            1         5.0   0.5   \n569121        40.787457        -73.981110  ...            1        21.0   0.0   \n562115        40.672974        -73.789734  ...            1        36.5   0.0   \n\n         mtaTax  improvementSurcharge  tipAmount  tollsAmount ehailFee  \\\n1410483     0.5                   0.3       0.00          0.0      NaN   \n648426      0.5                   0.3       0.00          0.0      NaN   \n758981      0.5                     0       0.90          0.0      NaN   \n1309482     0.5                   0.3       4.15          0.0      NaN   \n58992       0.5                   0.3       0.00          0.0      NaN   \n15394       0.5                   0.3       0.00          0.0      NaN   \n1237751     0.5                   0.3       2.75          0.0      NaN   \n166729      0.5                   0.3       1.65          0.0      NaN   \n569121      0.5                   0.3       3.00          0.0      NaN   \n562115      0.5                   0.3       9.32          0.0      NaN   \n\n         totalAmount  tripType  \n1410483        23.80       1.0  \n648426          6.30       1.0  \n758981          5.90       1.0  \n1309482        24.95       1.0  \n58992           7.80       1.0  \n15394           6.80       1.0  \n1237751        14.55       1.0  \n166729          7.95       1.0  \n569121         24.80       1.0  \n562115         46.62       1.0  \n\n[10 rows x 23 columns]",
            "text/html": "<div>\n<style scoped>\n    .dataframe tbody tr th:only-of-type {\n        vertical-align: middle;\n    }\n\n    .dataframe tbody tr th {\n        vertical-align: top;\n    }\n\n    .dataframe thead th {\n        text-align: right;\n    }\n</style>\n<table border=\"1\" class=\"dataframe\">\n  <thead>\n    <tr style=\"text-align: right;\">\n      <th></th>\n      <th>vendorID</th>\n      <th>lpepPickupDatetime</th>\n      <th>lpepDropoffDatetime</th>\n      <th>passengerCount</th>\n      <th>tripDistance</th>\n      <th>puLocationId</th>\n      <th>doLocationId</th>\n      <th>pickupLongitude</th>\n      <th>pickupLatitude</th>\n      <th>dropoffLongitude</th>\n      <th>...</th>\n      <th>paymentType</th>\n      <th>fareAmount</th>\n      <th>extra</th>\n      <th>mtaTax</th>\n      <th>improvementSurcharge</th>\n      <th>tipAmount</th>\n      <th>tollsAmount</th>\n      <th>ehailFee</th>\n      <th>totalAmount</th>\n      <th>tripType</th>\n    </tr>\n  </thead>\n  <tbody>\n    <tr>\n      <th>1410483</th>\n      <td>1</td>\n      <td>2015-01-12 18:30:43</td>\n      <td>2015-01-12 18:54:33</td>\n      <td>1</td>\n      <td>6.30</td>\n      <td>None</td>\n      <td>None</td>\n      <td>-73.961174</td>\n      <td>40.806816</td>\n      <td>-73.996101</td>\n      <td>...</td>\n      <td>2</td>\n      <td>22.0</td>\n      <td>1.0</td>\n      <td>0.5</td>\n      <td>0.3</td>\n      <td>0.00</td>\n      <td>0.0</td>\n      <td>NaN</td>\n      <td>23.80</td>\n      <td>1.0</td>\n    </tr>\n    <tr>\n      <th>648426</th>\n      <td>1</td>\n      <td>2015-01-04 12:24:01</td>\n      <td>2015-01-04 12:28:24</td>\n      <td>1</td>\n      <td>0.90</td>\n      <td>None</td>\n      <td>None</td>\n      <td>-73.939804</td>\n      <td>40.841301</td>\n      <td>-73.947739</td>\n      <td>...</td>\n      <td>2</td>\n      <td>5.5</td>\n      <td>0.0</td>\n      <td>0.5</td>\n      <td>0.3</td>\n      <td>0.00</td>\n      <td>0.0</td>\n      <td>NaN</td>\n      <td>6.30</td>\n      <td>1.0</td>\n    </tr>\n    <tr>\n      <th>758981</th>\n      <td>2</td>\n      <td>2015-01-17 12:02:28</td>\n      <td>2015-01-17 12:06:03</td>\n      <td>1</td>\n      <td>0.69</td>\n      <td>None</td>\n      <td>None</td>\n      <td>-73.926544</td>\n      <td>40.759155</td>\n      <td>-73.919922</td>\n      <td>...</td>\n      <td>1</td>\n      <td>4.5</td>\n      <td>0.0</td>\n      <td>0.5</td>\n      <td>0</td>\n      <td>0.90</td>\n      <td>0.0</td>\n      <td>NaN</td>\n      <td>5.90</td>\n      <td>1.0</td>\n    </tr>\n    <tr>\n      <th>1309482</th>\n      <td>1</td>\n      <td>2015-01-16 08:55:05</td>\n      <td>2015-01-16 09:26:21</td>\n      <td>1</td>\n      <td>3.30</td>\n      <td>None</td>\n      <td>None</td>\n      <td>-73.950851</td>\n      <td>40.791847</td>\n      <td>-73.975517</td>\n      <td>...</td>\n      <td>1</td>\n      <td>20.0</td>\n      <td>0.0</td>\n      <td>0.5</td>\n      <td>0.3</td>\n      <td>4.15</td>\n      <td>0.0</td>\n      <td>NaN</td>\n      <td>24.95</td>\n      <td>1.0</td>\n    </tr>\n    <tr>\n      <th>58992</th>\n      <td>2</td>\n      <td>2015-01-10 08:49:33</td>\n      <td>2015-01-10 08:56:11</td>\n      <td>1</td>\n      <td>1.21</td>\n      <td>None</td>\n      <td>None</td>\n      <td>-73.937218</td>\n      <td>40.810345</td>\n      <td>-73.945610</td>\n      <td>...</td>\n      <td>1</td>\n      <td>7.0</td>\n      <td>0.0</td>\n      <td>0.5</td>\n      <td>0.3</td>\n      <td>0.00</td>\n      <td>0.0</td>\n      <td>NaN</td>\n      <td>7.80</td>\n      <td>1.0</td>\n    </tr>\n    <tr>\n      <th>15394</th>\n      <td>2</td>\n      <td>2015-01-02 01:00:08</td>\n      <td>2015-01-02 01:04:26</td>\n      <td>2</td>\n      <td>1.11</td>\n      <td>None</td>\n      <td>None</td>\n      <td>-73.921295</td>\n      <td>40.766842</td>\n      <td>-73.906410</td>\n      <td>...</td>\n      <td>2</td>\n      <td>5.5</td>\n      <td>0.5</td>\n      <td>0.5</td>\n      <td>0.3</td>\n      <td>0.00</td>\n      <td>0.0</td>\n      <td>NaN</td>\n      <td>6.80</td>\n      <td>1.0</td>\n    </tr>\n    <tr>\n      <th>1237751</th>\n      <td>2</td>\n      <td>2015-01-28 19:24:01</td>\n      <td>2015-01-28 19:36:25</td>\n      <td>1</td>\n      <td>1.75</td>\n      <td>None</td>\n      <td>None</td>\n      <td>-73.992874</td>\n      <td>40.692959</td>\n      <td>-73.970741</td>\n      <td>...</td>\n      <td>1</td>\n      <td>10.0</td>\n      <td>1.0</td>\n      <td>0.5</td>\n      <td>0.3</td>\n      <td>2.75</td>\n      <td>0.0</td>\n      <td>NaN</td>\n      <td>14.55</td>\n      <td>1.0</td>\n    </tr>\n    <tr>\n      <th>166729</th>\n      <td>2</td>\n      <td>2015-01-14 00:01:37</td>\n      <td>2015-01-14 00:05:21</td>\n      <td>1</td>\n      <td>0.95</td>\n      <td>None</td>\n      <td>None</td>\n      <td>-73.917694</td>\n      <td>40.770168</td>\n      <td>-73.908134</td>\n      <td>...</td>\n      <td>1</td>\n      <td>5.0</td>\n      <td>0.5</td>\n      <td>0.5</td>\n      <td>0.3</td>\n      <td>1.65</td>\n      <td>0.0</td>\n      <td>NaN</td>\n      <td>7.95</td>\n      <td>1.0</td>\n    </tr>\n    <tr>\n      <th>569121</th>\n      <td>1</td>\n      <td>2015-01-22 09:15:29</td>\n      <td>2015-01-22 09:47:04</td>\n      <td>1</td>\n      <td>4.00</td>\n      <td>None</td>\n      <td>None</td>\n      <td>-73.944695</td>\n      <td>40.787457</td>\n      <td>-73.981110</td>\n      <td>...</td>\n      <td>1</td>\n      <td>21.0</td>\n      <td>0.0</td>\n      <td>0.5</td>\n      <td>0.3</td>\n      <td>3.00</td>\n      <td>0.0</td>\n      <td>NaN</td>\n      <td>24.80</td>\n      <td>1.0</td>\n    </tr>\n    <tr>\n      <th>562115</th>\n      <td>2</td>\n      <td>2015-01-22 06:19:15</td>\n      <td>2015-01-22 06:51:27</td>\n      <td>2</td>\n      <td>11.56</td>\n      <td>None</td>\n      <td>None</td>\n      <td>-73.959961</td>\n      <td>40.672974</td>\n      <td>-73.789734</td>\n      <td>...</td>\n      <td>1</td>\n      <td>36.5</td>\n      <td>0.0</td>\n      <td>0.5</td>\n      <td>0.3</td>\n      <td>9.32</td>\n      <td>0.0</td>\n      <td>NaN</td>\n      <td>46.62</td>\n      <td>1.0</td>\n    </tr>\n  </tbody>\n</table>\n<p>10 rows × 23 columns</p>\n</div>"
          },
          "metadata": {}
        }
      ],
      "execution_count": 2,
      "metadata": {
        "gather": {
          "logged": 1633859496574
        }
      }
    },
    {
      "cell_type": "markdown",
      "source": [
        "Now that the initial data is loaded, define a function to create various time-based features from the pickup datetime field. This will create new fields for the month number, day of month, day of week, and hour of day, and will allow the model to factor in time-based seasonality. \n",
        "\n",
        "Use the `apply()` function on the dataframe to iteratively apply the `build_time_features()` function to each row in the taxi data."
      ],
      "metadata": {}
    },
    {
      "cell_type": "code",
      "source": [
        "def build_time_features(vector):\n",
        "    pickup_datetime = vector[0]\n",
        "    month_num = pickup_datetime.month\n",
        "    day_of_month = pickup_datetime.day\n",
        "    day_of_week = pickup_datetime.weekday()\n",
        "    hour_of_day = pickup_datetime.hour\n",
        "    \n",
        "    return pd.Series((month_num, day_of_month, day_of_week, hour_of_day))\n",
        "\n",
        "green_taxi_df[[\"month_num\", \"day_of_month\",\"day_of_week\", \"hour_of_day\"]] = green_taxi_df[[\"lpepPickupDatetime\"]].apply(build_time_features, axis=1)\n",
        "green_taxi_df.head(10)"
      ],
      "outputs": [
        {
          "output_type": "execute_result",
          "execution_count": 3,
          "data": {
            "text/plain": "         vendorID  lpepPickupDatetime lpepDropoffDatetime  passengerCount  \\\n1410483         1 2015-01-12 18:30:43 2015-01-12 18:54:33               1   \n648426          1 2015-01-04 12:24:01 2015-01-04 12:28:24               1   \n758981          2 2015-01-17 12:02:28 2015-01-17 12:06:03               1   \n1309482         1 2015-01-16 08:55:05 2015-01-16 09:26:21               1   \n58992           2 2015-01-10 08:49:33 2015-01-10 08:56:11               1   \n15394           2 2015-01-02 01:00:08 2015-01-02 01:04:26               2   \n1237751         2 2015-01-28 19:24:01 2015-01-28 19:36:25               1   \n166729          2 2015-01-14 00:01:37 2015-01-14 00:05:21               1   \n569121          1 2015-01-22 09:15:29 2015-01-22 09:47:04               1   \n562115          2 2015-01-22 06:19:15 2015-01-22 06:51:27               2   \n\n         tripDistance puLocationId doLocationId  pickupLongitude  \\\n1410483          6.30         None         None       -73.961174   \n648426           0.90         None         None       -73.939804   \n758981           0.69         None         None       -73.926544   \n1309482          3.30         None         None       -73.950851   \n58992            1.21         None         None       -73.937218   \n15394            1.11         None         None       -73.921295   \n1237751          1.75         None         None       -73.992874   \n166729           0.95         None         None       -73.917694   \n569121           4.00         None         None       -73.944695   \n562115          11.56         None         None       -73.959961   \n\n         pickupLatitude  dropoffLongitude  ...  improvementSurcharge  \\\n1410483       40.806816        -73.996101  ...                   0.3   \n648426        40.841301        -73.947739  ...                   0.3   \n758981        40.759155        -73.919922  ...                     0   \n1309482       40.791847        -73.975517  ...                   0.3   \n58992         40.810345        -73.945610  ...                   0.3   \n15394         40.766842        -73.906410  ...                   0.3   \n1237751       40.692959        -73.970741  ...                   0.3   \n166729        40.770168        -73.908134  ...                   0.3   \n569121        40.787457        -73.981110  ...                   0.3   \n562115        40.672974        -73.789734  ...                   0.3   \n\n         tipAmount tollsAmount  ehailFee  totalAmount  tripType  month_num  \\\n1410483       0.00         0.0       NaN        23.80       1.0          1   \n648426        0.00         0.0       NaN         6.30       1.0          1   \n758981        0.90         0.0       NaN         5.90       1.0          1   \n1309482       4.15         0.0       NaN        24.95       1.0          1   \n58992         0.00         0.0       NaN         7.80       1.0          1   \n15394         0.00         0.0       NaN         6.80       1.0          1   \n1237751       2.75         0.0       NaN        14.55       1.0          1   \n166729        1.65         0.0       NaN         7.95       1.0          1   \n569121        3.00         0.0       NaN        24.80       1.0          1   \n562115        9.32         0.0       NaN        46.62       1.0          1   \n\n        day_of_month  day_of_week  hour_of_day  \n1410483           12            0           18  \n648426             4            6           12  \n758981            17            5           12  \n1309482           16            4            8  \n58992             10            5            8  \n15394              2            4            1  \n1237751           28            2           19  \n166729            14            2            0  \n569121            22            3            9  \n562115            22            3            6  \n\n[10 rows x 27 columns]",
            "text/html": "<div>\n<style scoped>\n    .dataframe tbody tr th:only-of-type {\n        vertical-align: middle;\n    }\n\n    .dataframe tbody tr th {\n        vertical-align: top;\n    }\n\n    .dataframe thead th {\n        text-align: right;\n    }\n</style>\n<table border=\"1\" class=\"dataframe\">\n  <thead>\n    <tr style=\"text-align: right;\">\n      <th></th>\n      <th>vendorID</th>\n      <th>lpepPickupDatetime</th>\n      <th>lpepDropoffDatetime</th>\n      <th>passengerCount</th>\n      <th>tripDistance</th>\n      <th>puLocationId</th>\n      <th>doLocationId</th>\n      <th>pickupLongitude</th>\n      <th>pickupLatitude</th>\n      <th>dropoffLongitude</th>\n      <th>...</th>\n      <th>improvementSurcharge</th>\n      <th>tipAmount</th>\n      <th>tollsAmount</th>\n      <th>ehailFee</th>\n      <th>totalAmount</th>\n      <th>tripType</th>\n      <th>month_num</th>\n      <th>day_of_month</th>\n      <th>day_of_week</th>\n      <th>hour_of_day</th>\n    </tr>\n  </thead>\n  <tbody>\n    <tr>\n      <th>1410483</th>\n      <td>1</td>\n      <td>2015-01-12 18:30:43</td>\n      <td>2015-01-12 18:54:33</td>\n      <td>1</td>\n      <td>6.30</td>\n      <td>None</td>\n      <td>None</td>\n      <td>-73.961174</td>\n      <td>40.806816</td>\n      <td>-73.996101</td>\n      <td>...</td>\n      <td>0.3</td>\n      <td>0.00</td>\n      <td>0.0</td>\n      <td>NaN</td>\n      <td>23.80</td>\n      <td>1.0</td>\n      <td>1</td>\n      <td>12</td>\n      <td>0</td>\n      <td>18</td>\n    </tr>\n    <tr>\n      <th>648426</th>\n      <td>1</td>\n      <td>2015-01-04 12:24:01</td>\n      <td>2015-01-04 12:28:24</td>\n      <td>1</td>\n      <td>0.90</td>\n      <td>None</td>\n      <td>None</td>\n      <td>-73.939804</td>\n      <td>40.841301</td>\n      <td>-73.947739</td>\n      <td>...</td>\n      <td>0.3</td>\n      <td>0.00</td>\n      <td>0.0</td>\n      <td>NaN</td>\n      <td>6.30</td>\n      <td>1.0</td>\n      <td>1</td>\n      <td>4</td>\n      <td>6</td>\n      <td>12</td>\n    </tr>\n    <tr>\n      <th>758981</th>\n      <td>2</td>\n      <td>2015-01-17 12:02:28</td>\n      <td>2015-01-17 12:06:03</td>\n      <td>1</td>\n      <td>0.69</td>\n      <td>None</td>\n      <td>None</td>\n      <td>-73.926544</td>\n      <td>40.759155</td>\n      <td>-73.919922</td>\n      <td>...</td>\n      <td>0</td>\n      <td>0.90</td>\n      <td>0.0</td>\n      <td>NaN</td>\n      <td>5.90</td>\n      <td>1.0</td>\n      <td>1</td>\n      <td>17</td>\n      <td>5</td>\n      <td>12</td>\n    </tr>\n    <tr>\n      <th>1309482</th>\n      <td>1</td>\n      <td>2015-01-16 08:55:05</td>\n      <td>2015-01-16 09:26:21</td>\n      <td>1</td>\n      <td>3.30</td>\n      <td>None</td>\n      <td>None</td>\n      <td>-73.950851</td>\n      <td>40.791847</td>\n      <td>-73.975517</td>\n      <td>...</td>\n      <td>0.3</td>\n      <td>4.15</td>\n      <td>0.0</td>\n      <td>NaN</td>\n      <td>24.95</td>\n      <td>1.0</td>\n      <td>1</td>\n      <td>16</td>\n      <td>4</td>\n      <td>8</td>\n    </tr>\n    <tr>\n      <th>58992</th>\n      <td>2</td>\n      <td>2015-01-10 08:49:33</td>\n      <td>2015-01-10 08:56:11</td>\n      <td>1</td>\n      <td>1.21</td>\n      <td>None</td>\n      <td>None</td>\n      <td>-73.937218</td>\n      <td>40.810345</td>\n      <td>-73.945610</td>\n      <td>...</td>\n      <td>0.3</td>\n      <td>0.00</td>\n      <td>0.0</td>\n      <td>NaN</td>\n      <td>7.80</td>\n      <td>1.0</td>\n      <td>1</td>\n      <td>10</td>\n      <td>5</td>\n      <td>8</td>\n    </tr>\n    <tr>\n      <th>15394</th>\n      <td>2</td>\n      <td>2015-01-02 01:00:08</td>\n      <td>2015-01-02 01:04:26</td>\n      <td>2</td>\n      <td>1.11</td>\n      <td>None</td>\n      <td>None</td>\n      <td>-73.921295</td>\n      <td>40.766842</td>\n      <td>-73.906410</td>\n      <td>...</td>\n      <td>0.3</td>\n      <td>0.00</td>\n      <td>0.0</td>\n      <td>NaN</td>\n      <td>6.80</td>\n      <td>1.0</td>\n      <td>1</td>\n      <td>2</td>\n      <td>4</td>\n      <td>1</td>\n    </tr>\n    <tr>\n      <th>1237751</th>\n      <td>2</td>\n      <td>2015-01-28 19:24:01</td>\n      <td>2015-01-28 19:36:25</td>\n      <td>1</td>\n      <td>1.75</td>\n      <td>None</td>\n      <td>None</td>\n      <td>-73.992874</td>\n      <td>40.692959</td>\n      <td>-73.970741</td>\n      <td>...</td>\n      <td>0.3</td>\n      <td>2.75</td>\n      <td>0.0</td>\n      <td>NaN</td>\n      <td>14.55</td>\n      <td>1.0</td>\n      <td>1</td>\n      <td>28</td>\n      <td>2</td>\n      <td>19</td>\n    </tr>\n    <tr>\n      <th>166729</th>\n      <td>2</td>\n      <td>2015-01-14 00:01:37</td>\n      <td>2015-01-14 00:05:21</td>\n      <td>1</td>\n      <td>0.95</td>\n      <td>None</td>\n      <td>None</td>\n      <td>-73.917694</td>\n      <td>40.770168</td>\n      <td>-73.908134</td>\n      <td>...</td>\n      <td>0.3</td>\n      <td>1.65</td>\n      <td>0.0</td>\n      <td>NaN</td>\n      <td>7.95</td>\n      <td>1.0</td>\n      <td>1</td>\n      <td>14</td>\n      <td>2</td>\n      <td>0</td>\n    </tr>\n    <tr>\n      <th>569121</th>\n      <td>1</td>\n      <td>2015-01-22 09:15:29</td>\n      <td>2015-01-22 09:47:04</td>\n      <td>1</td>\n      <td>4.00</td>\n      <td>None</td>\n      <td>None</td>\n      <td>-73.944695</td>\n      <td>40.787457</td>\n      <td>-73.981110</td>\n      <td>...</td>\n      <td>0.3</td>\n      <td>3.00</td>\n      <td>0.0</td>\n      <td>NaN</td>\n      <td>24.80</td>\n      <td>1.0</td>\n      <td>1</td>\n      <td>22</td>\n      <td>3</td>\n      <td>9</td>\n    </tr>\n    <tr>\n      <th>562115</th>\n      <td>2</td>\n      <td>2015-01-22 06:19:15</td>\n      <td>2015-01-22 06:51:27</td>\n      <td>2</td>\n      <td>11.56</td>\n      <td>None</td>\n      <td>None</td>\n      <td>-73.959961</td>\n      <td>40.672974</td>\n      <td>-73.789734</td>\n      <td>...</td>\n      <td>0.3</td>\n      <td>9.32</td>\n      <td>0.0</td>\n      <td>NaN</td>\n      <td>46.62</td>\n      <td>1.0</td>\n      <td>1</td>\n      <td>22</td>\n      <td>3</td>\n      <td>6</td>\n    </tr>\n  </tbody>\n</table>\n<p>10 rows × 27 columns</p>\n</div>"
          },
          "metadata": {}
        }
      ],
      "execution_count": 3,
      "metadata": {
        "gather": {
          "logged": 1633859695658
        }
      }
    },
    {
      "cell_type": "markdown",
      "source": [
        "Remove some of the columns that you won't need for training or additional feature building."
      ],
      "metadata": {}
    },
    {
      "cell_type": "code",
      "source": [
        "columns_to_remove = [\"lpepPickupDatetime\", \"lpepDropoffDatetime\", \"puLocationId\", \"doLocationId\", \"extra\", \"mtaTax\",\n",
        "                     \"improvementSurcharge\", \"tollsAmount\", \"ehailFee\", \"tripType\", \"rateCodeID\", \n",
        "                     \"storeAndFwdFlag\", \"paymentType\", \"fareAmount\", \"tipAmount\"\n",
        "                    ]\n",
        "for col in columns_to_remove:\n",
        "    green_taxi_df.pop(col)\n",
        "    \n",
        "green_taxi_df.head(5)"
      ],
      "outputs": [
        {
          "output_type": "execute_result",
          "execution_count": 4,
          "data": {
            "text/plain": "         vendorID  passengerCount  tripDistance  pickupLongitude  \\\n1410483         1               1          6.30       -73.961174   \n648426          1               1          0.90       -73.939804   \n758981          2               1          0.69       -73.926544   \n1309482         1               1          3.30       -73.950851   \n58992           2               1          1.21       -73.937218   \n\n         pickupLatitude  dropoffLongitude  dropoffLatitude  totalAmount  \\\n1410483       40.806816        -73.996101        40.748421        23.80   \n648426        40.841301        -73.947739        40.830063         6.30   \n758981        40.759155        -73.919922        40.757843         5.90   \n1309482       40.791847        -73.975517        40.752254        24.95   \n58992         40.810345        -73.945610        40.822224         7.80   \n\n         month_num  day_of_month  day_of_week  hour_of_day  \n1410483          1            12            0           18  \n648426           1             4            6           12  \n758981           1            17            5           12  \n1309482          1            16            4            8  \n58992            1            10            5            8  ",
            "text/html": "<div>\n<style scoped>\n    .dataframe tbody tr th:only-of-type {\n        vertical-align: middle;\n    }\n\n    .dataframe tbody tr th {\n        vertical-align: top;\n    }\n\n    .dataframe thead th {\n        text-align: right;\n    }\n</style>\n<table border=\"1\" class=\"dataframe\">\n  <thead>\n    <tr style=\"text-align: right;\">\n      <th></th>\n      <th>vendorID</th>\n      <th>passengerCount</th>\n      <th>tripDistance</th>\n      <th>pickupLongitude</th>\n      <th>pickupLatitude</th>\n      <th>dropoffLongitude</th>\n      <th>dropoffLatitude</th>\n      <th>totalAmount</th>\n      <th>month_num</th>\n      <th>day_of_month</th>\n      <th>day_of_week</th>\n      <th>hour_of_day</th>\n    </tr>\n  </thead>\n  <tbody>\n    <tr>\n      <th>1410483</th>\n      <td>1</td>\n      <td>1</td>\n      <td>6.30</td>\n      <td>-73.961174</td>\n      <td>40.806816</td>\n      <td>-73.996101</td>\n      <td>40.748421</td>\n      <td>23.80</td>\n      <td>1</td>\n      <td>12</td>\n      <td>0</td>\n      <td>18</td>\n    </tr>\n    <tr>\n      <th>648426</th>\n      <td>1</td>\n      <td>1</td>\n      <td>0.90</td>\n      <td>-73.939804</td>\n      <td>40.841301</td>\n      <td>-73.947739</td>\n      <td>40.830063</td>\n      <td>6.30</td>\n      <td>1</td>\n      <td>4</td>\n      <td>6</td>\n      <td>12</td>\n    </tr>\n    <tr>\n      <th>758981</th>\n      <td>2</td>\n      <td>1</td>\n      <td>0.69</td>\n      <td>-73.926544</td>\n      <td>40.759155</td>\n      <td>-73.919922</td>\n      <td>40.757843</td>\n      <td>5.90</td>\n      <td>1</td>\n      <td>17</td>\n      <td>5</td>\n      <td>12</td>\n    </tr>\n    <tr>\n      <th>1309482</th>\n      <td>1</td>\n      <td>1</td>\n      <td>3.30</td>\n      <td>-73.950851</td>\n      <td>40.791847</td>\n      <td>-73.975517</td>\n      <td>40.752254</td>\n      <td>24.95</td>\n      <td>1</td>\n      <td>16</td>\n      <td>4</td>\n      <td>8</td>\n    </tr>\n    <tr>\n      <th>58992</th>\n      <td>2</td>\n      <td>1</td>\n      <td>1.21</td>\n      <td>-73.937218</td>\n      <td>40.810345</td>\n      <td>-73.945610</td>\n      <td>40.822224</td>\n      <td>7.80</td>\n      <td>1</td>\n      <td>10</td>\n      <td>5</td>\n      <td>8</td>\n    </tr>\n  </tbody>\n</table>\n</div>"
          },
          "metadata": {}
        }
      ],
      "execution_count": 4,
      "metadata": {
        "gather": {
          "logged": 1633859707993
        }
      }
    },
    {
      "cell_type": "markdown",
      "source": [
        "### Cleanse data "
      ],
      "metadata": {}
    },
    {
      "cell_type": "markdown",
      "source": [
        "Run the `describe()` function on the new dataframe to see summary statistics for each field."
      ],
      "metadata": {}
    },
    {
      "cell_type": "code",
      "source": [
        "green_taxi_df.describe()"
      ],
      "outputs": [
        {
          "output_type": "execute_result",
          "execution_count": 5,
          "data": {
            "text/plain": "           vendorID  passengerCount  tripDistance  pickupLongitude  \\\ncount  24000.000000    24000.000000  24000.000000     24000.000000   \nmean       1.783000        1.360750      2.888661       -73.845796   \nstd        0.412211        1.022694      2.954594         2.568924   \nmin        1.000000        0.000000      0.000000       -75.309120   \n25%        2.000000        1.000000      1.070000       -73.959389   \n50%        2.000000        1.000000      1.900000       -73.945030   \n75%        2.000000        1.000000      3.610000       -73.916962   \nmax        2.000000        6.000000     44.500000         0.000000   \n\n       pickupLatitude  dropoffLongitude  dropoffLatitude   totalAmount  \\\ncount    24000.000000      24000.000000     24000.000000  24000.000000   \nmean        40.700803        -73.819945        40.684888     15.056721   \nstd          1.416855          2.901217         1.599782     38.673471   \nmin          0.000000        -75.309082         0.000000   -200.800000   \n25%         40.700012        -73.966965        40.700352      8.000000   \n50%         40.746847        -73.944332        40.747797     11.300000   \n75%         40.803953        -73.909613        40.792638     17.800000   \nmax         41.044601          0.000000        41.076679   5660.100000   \n\n          month_num  day_of_month   day_of_week   hour_of_day  \ncount  24000.000000  24000.000000  24000.000000  24000.000000  \nmean       6.500000     15.036917      3.289250     13.547833  \nstd        3.452124      8.445785      1.961673      6.827126  \nmin        1.000000      1.000000      0.000000      0.000000  \n25%        3.750000      8.000000      2.000000      9.000000  \n50%        6.500000     15.000000      3.000000     15.000000  \n75%        9.250000     22.000000      5.000000     19.000000  \nmax       12.000000     30.000000      6.000000     23.000000  ",
            "text/html": "<div>\n<style scoped>\n    .dataframe tbody tr th:only-of-type {\n        vertical-align: middle;\n    }\n\n    .dataframe tbody tr th {\n        vertical-align: top;\n    }\n\n    .dataframe thead th {\n        text-align: right;\n    }\n</style>\n<table border=\"1\" class=\"dataframe\">\n  <thead>\n    <tr style=\"text-align: right;\">\n      <th></th>\n      <th>vendorID</th>\n      <th>passengerCount</th>\n      <th>tripDistance</th>\n      <th>pickupLongitude</th>\n      <th>pickupLatitude</th>\n      <th>dropoffLongitude</th>\n      <th>dropoffLatitude</th>\n      <th>totalAmount</th>\n      <th>month_num</th>\n      <th>day_of_month</th>\n      <th>day_of_week</th>\n      <th>hour_of_day</th>\n    </tr>\n  </thead>\n  <tbody>\n    <tr>\n      <th>count</th>\n      <td>24000.000000</td>\n      <td>24000.000000</td>\n      <td>24000.000000</td>\n      <td>24000.000000</td>\n      <td>24000.000000</td>\n      <td>24000.000000</td>\n      <td>24000.000000</td>\n      <td>24000.000000</td>\n      <td>24000.000000</td>\n      <td>24000.000000</td>\n      <td>24000.000000</td>\n      <td>24000.000000</td>\n    </tr>\n    <tr>\n      <th>mean</th>\n      <td>1.783000</td>\n      <td>1.360750</td>\n      <td>2.888661</td>\n      <td>-73.845796</td>\n      <td>40.700803</td>\n      <td>-73.819945</td>\n      <td>40.684888</td>\n      <td>15.056721</td>\n      <td>6.500000</td>\n      <td>15.036917</td>\n      <td>3.289250</td>\n      <td>13.547833</td>\n    </tr>\n    <tr>\n      <th>std</th>\n      <td>0.412211</td>\n      <td>1.022694</td>\n      <td>2.954594</td>\n      <td>2.568924</td>\n      <td>1.416855</td>\n      <td>2.901217</td>\n      <td>1.599782</td>\n      <td>38.673471</td>\n      <td>3.452124</td>\n      <td>8.445785</td>\n      <td>1.961673</td>\n      <td>6.827126</td>\n    </tr>\n    <tr>\n      <th>min</th>\n      <td>1.000000</td>\n      <td>0.000000</td>\n      <td>0.000000</td>\n      <td>-75.309120</td>\n      <td>0.000000</td>\n      <td>-75.309082</td>\n      <td>0.000000</td>\n      <td>-200.800000</td>\n      <td>1.000000</td>\n      <td>1.000000</td>\n      <td>0.000000</td>\n      <td>0.000000</td>\n    </tr>\n    <tr>\n      <th>25%</th>\n      <td>2.000000</td>\n      <td>1.000000</td>\n      <td>1.070000</td>\n      <td>-73.959389</td>\n      <td>40.700012</td>\n      <td>-73.966965</td>\n      <td>40.700352</td>\n      <td>8.000000</td>\n      <td>3.750000</td>\n      <td>8.000000</td>\n      <td>2.000000</td>\n      <td>9.000000</td>\n    </tr>\n    <tr>\n      <th>50%</th>\n      <td>2.000000</td>\n      <td>1.000000</td>\n      <td>1.900000</td>\n      <td>-73.945030</td>\n      <td>40.746847</td>\n      <td>-73.944332</td>\n      <td>40.747797</td>\n      <td>11.300000</td>\n      <td>6.500000</td>\n      <td>15.000000</td>\n      <td>3.000000</td>\n      <td>15.000000</td>\n    </tr>\n    <tr>\n      <th>75%</th>\n      <td>2.000000</td>\n      <td>1.000000</td>\n      <td>3.610000</td>\n      <td>-73.916962</td>\n      <td>40.803953</td>\n      <td>-73.909613</td>\n      <td>40.792638</td>\n      <td>17.800000</td>\n      <td>9.250000</td>\n      <td>22.000000</td>\n      <td>5.000000</td>\n      <td>19.000000</td>\n    </tr>\n    <tr>\n      <th>max</th>\n      <td>2.000000</td>\n      <td>6.000000</td>\n      <td>44.500000</td>\n      <td>0.000000</td>\n      <td>41.044601</td>\n      <td>0.000000</td>\n      <td>41.076679</td>\n      <td>5660.100000</td>\n      <td>12.000000</td>\n      <td>30.000000</td>\n      <td>6.000000</td>\n      <td>23.000000</td>\n    </tr>\n  </tbody>\n</table>\n</div>"
          },
          "metadata": {}
        }
      ],
      "execution_count": 5,
      "metadata": {
        "gather": {
          "logged": 1633859712642
        }
      }
    },
    {
      "cell_type": "markdown",
      "source": [
        "From the summary statistics, you see that there are several fields that have outliers or values that will reduce model accuracy. First filter the lat/long fields to be within the bounds of the Manhattan area. This will filter out longer taxi trips or trips that are outliers in respect to their relationship with other features. \n",
        "\n",
        "Additionally filter the `tripDistance` field to be greater than zero but less than 31 miles (the haversine distance between the two lat/long pairs). This eliminates long outlier trips that have inconsistent trip cost.\n",
        "\n",
        "Lastly, the `totalAmount` field has negative values for the taxi fares, which don't make sense in the context of our model, and the `passengerCount` field has bad data with the minimum values being zero.\n",
        "\n",
        "Filter out these anomalies using query functions, and then remove the last few columns unnecessary for training."
      ],
      "metadata": {}
    },
    {
      "cell_type": "code",
      "source": [
        "final_df = green_taxi_df.query(\"pickupLatitude>=40.53 and pickupLatitude<=40.88\")\n",
        "final_df = final_df.query(\"pickupLongitude>=-74.09 and pickupLongitude<=-73.72\")\n",
        "final_df = final_df.query(\"tripDistance>=0.25 and tripDistance<31\")\n",
        "final_df = final_df.query(\"passengerCount>0 and totalAmount>0\")\n",
        "\n",
        "columns_to_remove_for_training = [\"pickupLongitude\", \"pickupLatitude\", \"dropoffLongitude\", \"dropoffLatitude\"]\n",
        "for col in columns_to_remove_for_training:\n",
        "    final_df.pop(col)"
      ],
      "outputs": [],
      "execution_count": 9,
      "metadata": {
        "gather": {
          "logged": 1633859742644
        }
      }
    },
    {
      "cell_type": "markdown",
      "source": [
        "Call `describe()` again on the data to ensure cleansing worked as expected. You now have a prepared and cleansed set of taxi, holiday, and weather data to use for machine learning model training."
      ],
      "metadata": {}
    },
    {
      "cell_type": "code",
      "source": [
        "final_df.describe()"
      ],
      "outputs": [
        {
          "output_type": "execute_result",
          "execution_count": 10,
          "data": {
            "text/plain": "           vendorID  passengerCount  tripDistance   totalAmount     month_num  \\\ncount  23275.000000    23275.000000  23275.000000  23275.000000  23275.000000   \nmean       1.783845        1.361203      2.948534     15.036622      6.510462   \nstd        0.411630        1.023954      2.920761     38.506644      3.451852   \nmin        1.000000        1.000000      0.250000      1.200000      1.000000   \n25%        2.000000        1.000000      1.100000      8.160000      4.000000   \n50%        2.000000        1.000000      1.950000     11.300000      7.000000   \n75%        2.000000        1.000000      3.690000     17.800000     10.000000   \nmax        2.000000        6.000000     30.000000   5660.100000     12.000000   \n\n       day_of_month   day_of_week   hour_of_day  \ncount  23275.000000  23275.000000  23275.000000  \nmean      15.046445      3.293190     13.552223  \nstd        8.452234      1.962277      6.833682  \nmin        1.000000      0.000000      0.000000  \n25%        8.000000      2.000000      9.000000  \n50%       15.000000      3.000000     15.000000  \n75%       22.000000      5.000000     19.000000  \nmax       30.000000      6.000000     23.000000  ",
            "text/html": "<div>\n<style scoped>\n    .dataframe tbody tr th:only-of-type {\n        vertical-align: middle;\n    }\n\n    .dataframe tbody tr th {\n        vertical-align: top;\n    }\n\n    .dataframe thead th {\n        text-align: right;\n    }\n</style>\n<table border=\"1\" class=\"dataframe\">\n  <thead>\n    <tr style=\"text-align: right;\">\n      <th></th>\n      <th>vendorID</th>\n      <th>passengerCount</th>\n      <th>tripDistance</th>\n      <th>totalAmount</th>\n      <th>month_num</th>\n      <th>day_of_month</th>\n      <th>day_of_week</th>\n      <th>hour_of_day</th>\n    </tr>\n  </thead>\n  <tbody>\n    <tr>\n      <th>count</th>\n      <td>23275.000000</td>\n      <td>23275.000000</td>\n      <td>23275.000000</td>\n      <td>23275.000000</td>\n      <td>23275.000000</td>\n      <td>23275.000000</td>\n      <td>23275.000000</td>\n      <td>23275.000000</td>\n    </tr>\n    <tr>\n      <th>mean</th>\n      <td>1.783845</td>\n      <td>1.361203</td>\n      <td>2.948534</td>\n      <td>15.036622</td>\n      <td>6.510462</td>\n      <td>15.046445</td>\n      <td>3.293190</td>\n      <td>13.552223</td>\n    </tr>\n    <tr>\n      <th>std</th>\n      <td>0.411630</td>\n      <td>1.023954</td>\n      <td>2.920761</td>\n      <td>38.506644</td>\n      <td>3.451852</td>\n      <td>8.452234</td>\n      <td>1.962277</td>\n      <td>6.833682</td>\n    </tr>\n    <tr>\n      <th>min</th>\n      <td>1.000000</td>\n      <td>1.000000</td>\n      <td>0.250000</td>\n      <td>1.200000</td>\n      <td>1.000000</td>\n      <td>1.000000</td>\n      <td>0.000000</td>\n      <td>0.000000</td>\n    </tr>\n    <tr>\n      <th>25%</th>\n      <td>2.000000</td>\n      <td>1.000000</td>\n      <td>1.100000</td>\n      <td>8.160000</td>\n      <td>4.000000</td>\n      <td>8.000000</td>\n      <td>2.000000</td>\n      <td>9.000000</td>\n    </tr>\n    <tr>\n      <th>50%</th>\n      <td>2.000000</td>\n      <td>1.000000</td>\n      <td>1.950000</td>\n      <td>11.300000</td>\n      <td>7.000000</td>\n      <td>15.000000</td>\n      <td>3.000000</td>\n      <td>15.000000</td>\n    </tr>\n    <tr>\n      <th>75%</th>\n      <td>2.000000</td>\n      <td>1.000000</td>\n      <td>3.690000</td>\n      <td>17.800000</td>\n      <td>10.000000</td>\n      <td>22.000000</td>\n      <td>5.000000</td>\n      <td>19.000000</td>\n    </tr>\n    <tr>\n      <th>max</th>\n      <td>2.000000</td>\n      <td>6.000000</td>\n      <td>30.000000</td>\n      <td>5660.100000</td>\n      <td>12.000000</td>\n      <td>30.000000</td>\n      <td>6.000000</td>\n      <td>23.000000</td>\n    </tr>\n  </tbody>\n</table>\n</div>"
          },
          "metadata": {}
        }
      ],
      "execution_count": 10,
      "metadata": {
        "gather": {
          "logged": 1633859747581
        }
      }
    },
    {
      "cell_type": "markdown",
      "source": [
        "## Configure workspace\n"
      ],
      "metadata": {}
    },
    {
      "cell_type": "markdown",
      "source": [
        "Create a workspace object from the existing workspace. A [Workspace](https://docs.microsoft.com/python/api/azureml-core/azureml.core.workspace.workspace?view=azure-ml-py) is a class that accepts your Azure subscription and resource information. It also creates a cloud resource to monitor and track your model runs. `Workspace.from_config()` reads the file **config.json** and loads the authentication details into an object named `ws`. `ws` is used throughout the rest of the code in this tutorial."
      ],
      "metadata": {}
    },
    {
      "cell_type": "code",
      "source": [
        "from azureml.core.workspace import Workspace\n",
        "ws = Workspace.from_config()"
      ],
      "outputs": [],
      "execution_count": 11,
      "metadata": {
        "gather": {
          "logged": 1633859765132
        }
      }
    },
    {
      "cell_type": "markdown",
      "source": [
        "## Split the data into train and test sets"
      ],
      "metadata": {}
    },
    {
      "cell_type": "markdown",
      "source": [
        "Split the data into training and test sets by using the `train_test_split` function in the `scikit-learn` library. This function segregates the data into the x (**features**) data set for model training and the y (**values to predict**) data set for testing. The `test_size` parameter determines the percentage of data to allocate to testing. The `random_state` parameter sets a seed to the random generator, so that your train-test splits are deterministic."
      ],
      "metadata": {}
    },
    {
      "cell_type": "code",
      "source": [
        "from sklearn.model_selection import train_test_split\n",
        "\n",
        "x_train, x_test = train_test_split(final_df, test_size=0.2, random_state=223)"
      ],
      "outputs": [],
      "execution_count": 12,
      "metadata": {
        "gather": {
          "logged": 1633859767896
        }
      }
    },
    {
      "cell_type": "markdown",
      "source": [
        "The purpose of this step is to have data points to test the finished model that haven't been used to train the model, in order to measure true accuracy. \n",
        "\n",
        "In other words, a well-trained model should be able to accurately make predictions from data it hasn't already seen. You now have data prepared for auto-training a machine learning model."
      ],
      "metadata": {}
    },
    {
      "cell_type": "markdown",
      "source": [
        "## Automatically train a model"
      ],
      "metadata": {}
    },
    {
      "cell_type": "markdown",
      "source": [
        "To automatically train a model, take the following steps:\n",
        "1. Define settings for the experiment run. Attach your training data to the configuration, and modify settings that control the training process.\n",
        "1. Submit the experiment for model tuning. After submitting the experiment, the process iterates through different machine learning algorithms and hyperparameter settings, adhering to your defined constraints. It chooses the best-fit model by optimizing an accuracy metric."
      ],
      "metadata": {}
    },
    {
      "cell_type": "markdown",
      "source": [
        "### Define training settings"
      ],
      "metadata": {}
    },
    {
      "cell_type": "markdown",
      "source": [
        "Define the experiment parameter and model settings for training. View the full list of [settings](https://docs.microsoft.com/azure/machine-learning/service/how-to-configure-auto-train). Submitting the experiment with these default settings will take approximately 20 minutes, but if you want a shorter run time, reduce the `experiment_timeout_hours` parameter.\n",
        "\n",
        "\n",
        "|Property| Value in this tutorial |Description|\n",
        "|----|----|---|\n",
        "|**iteration_timeout_minutes**|10|Time limit in minutes for each iteration. Increase this value for larger datasets that need more time for each iteration.|\n",
        "|**experiment_timeout_hours**|0.3|Maximum amount of time in hours that all iterations combined can take before the experiment terminates.|\n",
        "|**enable_early_stopping**|True|Flag to enable early termination if the score is not improving in the short term.|\n",
        "|**primary_metric**| spearman_correlation | Metric that you want to optimize. The best-fit model will be chosen based on this metric.|\n",
        "|**featurization**| auto | By using auto, the experiment can preprocess the input data (handling missing data, converting text to numeric, etc.)|\n",
        "|**verbosity**| logging.INFO | Controls the level of logging.|\n",
        "|**n_cross_validations**|5|Number of cross-validation splits to perform when validation data is not specified.|"
      ],
      "metadata": {}
    },
    {
      "cell_type": "code",
      "source": [
        "import logging\n",
        "\n",
        "automl_settings = {\n",
        "    \"iteration_timeout_minutes\": 5,\n",
        "    \"experiment_timeout_hours\": 0.3,\n",
        "    \"enable_early_stopping\": True,\n",
        "    \"max_concurrent_iterations\": 4,\n",
        "    \"max_cores_per_iteration\": -1,\n",
        "    \"primary_metric\": 'spearman_correlation',\n",
        "    \"featurization\": 'auto',\n",
        "    \"verbosity\": logging.INFO,\n",
        "    \"n_cross_validations\": 5\n",
        "}"
      ],
      "outputs": [],
      "execution_count": 16,
      "metadata": {
        "gather": {
          "logged": 1633859807885
        }
      }
    },
    {
      "cell_type": "markdown",
      "source": [
        "Use your defined training settings as a `**kwargs` parameter to an `AutoMLConfig` object. Additionally, specify your training data and the type of model, which is `regression` in this case."
      ],
      "metadata": {}
    },
    {
      "cell_type": "code",
      "source": [
        "from azureml.train.automl import AutoMLConfig\n",
        "\n",
        "automl_config = AutoMLConfig(task='regression',\n",
        "                             debug_log='automated_ml_errors.log',\n",
        "                             training_data=x_train,\n",
        "                             enable_onnx_compatible_models=True,\n",
        "                             label_column_name=\"totalAmount\",\n",
        "                             **automl_settings)"
      ],
      "outputs": [],
      "execution_count": 17,
      "metadata": {
        "gather": {
          "logged": 1633859809755
        }
      }
    },
    {
      "cell_type": "markdown",
      "source": [
        "Automated machine learning pre-processing steps (feature normalization, handling missing data, converting text to numeric, etc.) become part of the underlying model. When using the model for predictions, the same pre-processing steps applied during training are applied to your input data automatically."
      ],
      "metadata": {}
    },
    {
      "cell_type": "markdown",
      "source": [
        "### Train the automatic regression model"
      ],
      "metadata": {}
    },
    {
      "cell_type": "markdown",
      "source": [
        "Create an experiment object in your workspace. An experiment acts as a container for your individual runs. Pass the defined `automl_config` object to the experiment, and set the output to `True` to view progress during the run. \n",
        "\n",
        "After starting the experiment, the output shown updates live as the experiment runs. For each iteration, you see the model type, the run duration, and the training accuracy. The field `BEST` tracks the best running training score based on your metric type."
      ],
      "metadata": {}
    },
    {
      "cell_type": "code",
      "source": [
        "from azureml.core.experiment import Experiment\n",
        "experiment = Experiment(ws, \"Tutorial-NYCTaxi\")\n",
        "local_run = experiment.submit(automl_config, show_output=True)"
      ],
      "outputs": [
        {
          "output_type": "stream",
          "name": "stdout",
          "text": "No run_configuration provided, running on local with default configuration\nRunning in the active local environment.\n"
        },
        {
          "output_type": "display_data",
          "data": {
            "text/plain": "<IPython.core.display.HTML object>",
            "text/html": "<table style=\"width:100%\"><tr><th>Experiment</th><th>Id</th><th>Type</th><th>Status</th><th>Details Page</th><th>Docs Page</th></tr><tr><td>Tutorial-NYCTaxi</td><td>AutoML_85c4a436-6987-4b4f-bf3c-b65afc158d64</td><td>automl</td><td>Preparing</td><td><a href=\"https://ml.azure.com/runs/AutoML_85c4a436-6987-4b4f-bf3c-b65afc158d64?wsid=/subscriptions/4efdac9a-decf-4ca8-9ee7-b161f06f4483/resourcegroups/asmlrg/workspaces/asmlws&amp;tid=0824ab20-e289-44ae-8ffe-4b8f6e232a19\" target=\"_blank\" rel=\"noopener\">Link to Azure Machine Learning studio</a></td><td><a href=\"https://docs.microsoft.com/en-us/python/api/overview/azure/ml/intro?view=azure-ml-py\" target=\"_blank\" rel=\"noopener\">Link to Documentation</a></td></tr></table>"
          },
          "metadata": {}
        },
        {
          "output_type": "stream",
          "name": "stdout",
          "text": "Current status: DatasetEvaluation. Gathering dataset statistics.\nCurrent status: FeaturesGeneration. Generating features for the dataset.\nCurrent status: DatasetFeaturization. Beginning to fit featurizers and featurize the dataset.\nCurrent status: DatasetFeaturizationCompleted. Completed fit featurizers and featurizing the dataset.\nCurrent status: DatasetCrossValidationSplit. Generating individually featurized CV splits.\n\n****************************************************************************************************\nDATA GUARDRAILS: \n\nTYPE:         Missing feature values imputation\nSTATUS:       PASSED\nDESCRIPTION:  No feature missing values were detected in the training data.\n              Learn more about missing value imputation: https://aka.ms/AutomatedMLFeaturization\n\n****************************************************************************************************\n\nTYPE:         High cardinality feature detection\nSTATUS:       PASSED\nDESCRIPTION:  Your inputs were analyzed, and no high cardinality features were detected.\n              Learn more about high cardinality feature handling: https://aka.ms/AutomatedMLFeaturization\n\n****************************************************************************************************\nCurrent status: ModelSelection. Beginning model selection.\n\n****************************************************************************************************\nITERATION: The iteration being evaluated.\nPIPELINE: A summary description of the pipeline being evaluated.\nDURATION: Time taken for the current iteration.\nMETRIC: The result of computing score on the fitted pipeline.\nBEST: The best observed score thus far.\n****************************************************************************************************\n\n ITERATION   PIPELINE                                       DURATION      METRIC      BEST\n         0   MaxAbsScaler LightGBM                          0:00:27       0.9263    0.9263\n         1   MaxAbsScaler XGBoostRegressor                  0:00:27       0.9052    0.9263\n         2   MaxAbsScaler ElasticNet                        0:00:27       0.8603    0.9263\n         3   StandardScalerWrapper XGBoostRegressor         0:00:27       0.9416    0.9416\n         4   StandardScalerWrapper XGBoostRegressor         0:00:26       0.8983    0.9416\n         5   StandardScalerWrapper ExtremeRandomTrees       0:00:25       0.8671    0.9416\n         6   StandardScalerWrapper RandomForest             0:00:26       0.9259    0.9416\n         7   StandardScalerWrapper DecisionTree             0:00:24       0.9320    0.9416\n         8   StandardScalerWrapper LightGBM                 0:00:26       0.8914    0.9416\n         9   StandardScalerWrapper LightGBM                 0:00:29       0.8627    0.9416\n        10   StandardScalerWrapper ElasticNet               0:00:24       0.8628    0.9416\n        11   StandardScalerWrapper ElasticNet               0:00:32       0.8609    0.9416\n        12   MaxAbsScaler ExtremeRandomTrees                0:03:47       0.9340    0.9416\n        13   StandardScalerWrapper XGBoostRegressor         0:00:28       0.9432    0.9432\n        14   StandardScalerWrapper DecisionTree             0:00:26       0.9320    0.9432\n        15   StandardScalerWrapper ElasticNet               0:00:28       0.8602    0.9432\n        16   StandardScalerWrapper ExtremeRandomTrees       0:00:31       0.9147    0.9432\n        17   MaxAbsScaler DecisionTree                      0:00:27       0.9365    0.9432\n        18   MaxAbsScaler SGD                               0:00:25       0.8559    0.9432\n        19   SparseNormalizer XGBoostRegressor              0:00:35       0.9442    0.9442\n        20   MaxAbsScaler RandomForest                      0:00:28       0.9231    0.9442\n        21   StandardScalerWrapper ExtremeRandomTrees       0:00:37       0.9260    0.9442\n        22   SparseNormalizer GradientBoosting              0:01:27       0.9459    0.9459\n        23   StandardScalerWrapper ElasticNet               0:00:26       0.8985    0.9459\n        24   SparseNormalizer RandomForest                  0:01:46       0.9188    0.9459\n        25   VotingEnsemble                                 0:00:45       0.9432    0.9459\nStopping criteria reached at iteration 26. Ending experiment.\n****************************************************************************************************\nCurrent status: BestRunExplainModel. Best run model explanations started\nCurrent status: ModelExplanationDataSetSetup. Model explanations data setup completed\nCurrent status: PickSurrogateModel. Choosing LightGBM as the surrogate model for explanations\nCurrent status: EngineeredFeatureExplanations. Computation of engineered features started\nCurrent status: EngineeredFeatureExplanations. Computation of engineered features completed\nCurrent status: RawFeaturesExplanations. Computation of raw features started\nCurrent status: RawFeaturesExplanations. Computation of raw features completed\nCurrent status: BestRunExplainModel. Best run model explanations completed\n****************************************************************************************************\n"
        }
      ],
      "execution_count": 18,
      "metadata": {
        "gather": {
          "logged": 1633861061170
        }
      }
    },
    {
      "cell_type": "markdown",
      "source": [
        "## Explore the results"
      ],
      "metadata": {}
    },
    {
      "cell_type": "markdown",
      "source": [
        "Explore the results of automatic training with a [Jupyter widget](https://docs.microsoft.com/python/api/azureml-widgets/azureml.widgets?view=azure-ml-py). The widget allows you to see a graph and table of all individual run iterations, along with training accuracy metrics and metadata. Additionally, you can filter on different accuracy metrics than your primary metric with the dropdown selector."
      ],
      "metadata": {}
    },
    {
      "cell_type": "code",
      "source": [
        "from azureml.widgets import RunDetails\n",
        "RunDetails(local_run).show()"
      ],
      "outputs": [
        {
          "output_type": "display_data",
          "data": {
            "text/plain": "_AutoMLWidget(widget_settings={'childWidgetDisplay': 'popup', 'send_telemetry': False, 'log_level': 'INFO', 's…",
            "application/vnd.jupyter.widget-view+json": {
              "version_major": 2,
              "version_minor": 0,
              "model_id": "3dbb992d2a5c431baac370c08e6fcc62"
            }
          },
          "metadata": {}
        },
        {
          "output_type": "display_data",
          "data": {
            "application/aml.mini.widget.v1": "{\"status\": \"Completed\", \"workbench_run_details_uri\": \"https://ml.azure.com/runs/AutoML_85c4a436-6987-4b4f-bf3c-b65afc158d64?wsid=/subscriptions/4efdac9a-decf-4ca8-9ee7-b161f06f4483/resourcegroups/asmlrg/workspaces/asmlws&tid=0824ab20-e289-44ae-8ffe-4b8f6e232a19\", \"run_id\": \"AutoML_85c4a436-6987-4b4f-bf3c-b65afc158d64\", \"run_properties\": {\"run_id\": \"AutoML_85c4a436-6987-4b4f-bf3c-b65afc158d64\", \"created_utc\": \"2021-10-10T09:57:26.456071Z\", \"properties\": {\"num_iterations\": \"1000\", \"training_type\": \"TrainFull\", \"acquisition_function\": \"EI\", \"primary_metric\": \"spearman_correlation\", \"train_split\": \"0\", \"acquisition_parameter\": \"0\", \"num_cross_validation\": \"5\", \"target\": \"local\", \"AMLSettingsJsonString\": \"{\\\"path\\\":null,\\\"name\\\":\\\"Tutorial-NYCTaxi\\\",\\\"subscription_id\\\":\\\"4efdac9a-decf-4ca8-9ee7-b161f06f4483\\\",\\\"resource_group\\\":\\\"asmlrg\\\",\\\"workspace_name\\\":\\\"asmlws\\\",\\\"region\\\":\\\"westeurope\\\",\\\"compute_target\\\":\\\"local\\\",\\\"spark_service\\\":null,\\\"azure_service\\\":\\\"Microsoft.AzureNotebookVM\\\",\\\"many_models\\\":false,\\\"pipeline_fetch_max_batch_size\\\":1,\\\"enable_batch_run\\\":false,\\\"enable_run_restructure\\\":false,\\\"start_auxiliary_runs_before_parent_complete\\\":false,\\\"enable_code_generation\\\":false,\\\"iterations\\\":1000,\\\"primary_metric\\\":\\\"spearman_correlation\\\",\\\"task_type\\\":\\\"regression\\\",\\\"data_script\\\":null,\\\"test_size\\\":0.0,\\\"test_include_predictions_only\\\":false,\\\"validation_size\\\":0.0,\\\"n_cross_validations\\\":5,\\\"y_min\\\":null,\\\"y_max\\\":null,\\\"num_classes\\\":null,\\\"featurization\\\":\\\"auto\\\",\\\"_ignore_package_version_incompatibilities\\\":false,\\\"is_timeseries\\\":false,\\\"max_cores_per_iteration\\\":-1,\\\"max_concurrent_iterations\\\":4,\\\"iteration_timeout_minutes\\\":5,\\\"mem_in_mb\\\":null,\\\"enforce_time_on_windows\\\":false,\\\"experiment_timeout_minutes\\\":18,\\\"experiment_exit_score\\\":null,\\\"whitelist_models\\\":null,\\\"blacklist_algos\\\":[\\\"TensorFlowDNN\\\",\\\"TensorFlowLinearRegressor\\\"],\\\"supported_models\\\":[\\\"ExtremeRandomTrees\\\",\\\"DecisionTree\\\",\\\"LightGBM\\\",\\\"XGBoostRegressor\\\",\\\"FastLinearRegressor\\\",\\\"TensorFlowDNN\\\",\\\"SGD\\\",\\\"TensorFlowLinearRegressor\\\",\\\"RandomForest\\\",\\\"KNN\\\",\\\"LassoLars\\\",\\\"ElasticNet\\\",\\\"GradientBoosting\\\",\\\"OnlineGradientDescentRegressor\\\"],\\\"private_models\\\":[],\\\"auto_blacklist\\\":true,\\\"blacklist_samples_reached\\\":false,\\\"exclude_nan_labels\\\":true,\\\"verbosity\\\":20,\\\"_debug_log\\\":\\\"automated_ml_errors.log\\\",\\\"show_warnings\\\":false,\\\"model_explainability\\\":true,\\\"service_url\\\":null,\\\"sdk_url\\\":null,\\\"sdk_packages\\\":null,\\\"enable_onnx_compatible_models\\\":true,\\\"enable_split_onnx_featurizer_estimator_models\\\":false,\\\"vm_type\\\":null,\\\"telemetry_verbosity\\\":20,\\\"send_telemetry\\\":true,\\\"enable_dnn\\\":false,\\\"scenario\\\":\\\"SDK-1.13.0\\\",\\\"environment_label\\\":null,\\\"save_mlflow\\\":false,\\\"force_text_dnn\\\":false,\\\"enable_feature_sweeping\\\":false,\\\"enable_early_stopping\\\":true,\\\"early_stopping_n_iters\\\":10,\\\"metrics\\\":null,\\\"enable_metric_confidence\\\":false,\\\"enable_ensembling\\\":true,\\\"enable_stack_ensembling\\\":false,\\\"ensemble_iterations\\\":15,\\\"enable_tf\\\":false,\\\"enable_subsampling\\\":null,\\\"subsample_seed\\\":null,\\\"enable_nimbusml\\\":false,\\\"enable_streaming\\\":false,\\\"force_streaming\\\":false,\\\"track_child_runs\\\":true,\\\"allowed_private_models\\\":[],\\\"label_column_name\\\":\\\"totalAmount\\\",\\\"weight_column_name\\\":null,\\\"cv_split_column_names\\\":null,\\\"positive_label\\\":null,\\\"enable_local_managed\\\":false,\\\"_local_managed_run_id\\\":null,\\\"cost_mode\\\":1,\\\"lag_length\\\":0,\\\"metric_operation\\\":\\\"maximize\\\",\\\"preprocess\\\":true}\", \"DataPrepJsonString\": null, \"EnableSubsampling\": null, \"runTemplate\": \"AutoML\", \"azureml.runsource\": \"automl\", \"display_task_type\": \"regression\", \"dependencies_versions\": \"{\\\"azureml-widgets\\\": \\\"1.34.0\\\", \\\"azureml-train\\\": \\\"1.34.0\\\", \\\"azureml-train-restclients-hyperdrive\\\": \\\"1.34.0\\\", \\\"azureml-train-core\\\": \\\"1.34.0\\\", \\\"azureml-train-automl\\\": \\\"1.34.0\\\", \\\"azureml-train-automl-runtime\\\": \\\"1.34.0.post1\\\", \\\"azureml-train-automl-client\\\": \\\"1.34.0\\\", \\\"azureml-tensorboard\\\": \\\"1.34.0\\\", \\\"azureml-telemetry\\\": \\\"1.34.0\\\", \\\"azureml-sdk\\\": \\\"1.34.0\\\", \\\"azureml-samples\\\": \\\"0+unknown\\\", \\\"azureml-responsibleai\\\": \\\"1.34.0\\\", \\\"azureml-pipeline\\\": \\\"1.34.0\\\", \\\"azureml-pipeline-steps\\\": \\\"1.34.0\\\", \\\"azureml-pipeline-core\\\": \\\"1.34.0\\\", \\\"azureml-opendatasets\\\": \\\"1.34.0\\\", \\\"azureml-mlflow\\\": \\\"1.34.0\\\", \\\"azureml-interpret\\\": \\\"1.34.0\\\", \\\"azureml-inference-server-http\\\": \\\"0.3.1\\\", \\\"azureml-explain-model\\\": \\\"1.34.0\\\", \\\"azureml-defaults\\\": \\\"1.34.0\\\", \\\"azureml-dataset-runtime\\\": \\\"1.34.0\\\", \\\"azureml-dataprep\\\": \\\"2.22.2\\\", \\\"azureml-dataprep-rslex\\\": \\\"1.20.2\\\", \\\"azureml-dataprep-native\\\": \\\"38.0.0\\\", \\\"azureml-datadrift\\\": \\\"1.34.0\\\", \\\"azureml-core\\\": \\\"1.34.0\\\", \\\"azureml-contrib-services\\\": \\\"1.34.0\\\", \\\"azureml-contrib-server\\\": \\\"1.34.0\\\", \\\"azureml-contrib-reinforcementlearning\\\": \\\"1.34.0\\\", \\\"azureml-contrib-pipeline-steps\\\": \\\"1.34.0\\\", \\\"azureml-contrib-notebook\\\": \\\"1.34.0\\\", \\\"azureml-contrib-fairness\\\": \\\"1.34.0\\\", \\\"azureml-contrib-dataset\\\": \\\"1.34.0\\\", \\\"azureml-contrib-automl-pipeline-steps\\\": \\\"1.34.0\\\", \\\"azureml-cli-common\\\": \\\"1.34.0\\\", \\\"azureml-automl-runtime\\\": \\\"1.34.0.post1\\\", \\\"azureml-automl-dnn-nlp\\\": \\\"1.34.0\\\", \\\"azureml-automl-core\\\": \\\"1.34.0.post1\\\", \\\"azureml-accel-models\\\": \\\"1.34.0\\\"}\", \"_aml_system_scenario_identification\": \"Local.Parent\", \"ClientSdkVersion\": \"1.34.0\", \"ClientType\": \"SDK\", \"environment_cpu_name\": \"AzureML-AutoML\", \"environment_cpu_label\": \"prod\", \"environment_gpu_name\": \"AzureML-AutoML-GPU\", \"environment_gpu_label\": \"prod\", \"root_attribution\": \"automl\", \"attribution\": \"AutoML\", \"Orchestrator\": \"AutoML\", \"_azureml.ComputeTargetType\": \"local\", \"ProblemInfoJsonString\": \"{\\\"dataset_num_categorical\\\": 0, \\\"is_sparse\\\": true, \\\"subsampling\\\": false, \\\"has_extra_col\\\": true, \\\"dataset_classes\\\": 1023, \\\"dataset_features\\\": 81, \\\"dataset_samples\\\": 18620, \\\"single_frequency_class_detected\\\": false}\"}, \"tags\": {\"model_explain_run\": \"best_run\", \"best_score\": \"0.9459433589396197\", \"best_pipeline\": \"GradientBoosting\", \"automl_best_child_run_id\": \"AutoML_85c4a436-6987-4b4f-bf3c-b65afc158d64_22\", \"model_explain_best_run_child_id\": \"AutoML_85c4a436-6987-4b4f-bf3c-b65afc158d64_22\"}, \"end_time_utc\": \"2021-10-10T10:16:20.313386Z\", \"status\": \"Completed\", \"log_files\": {}, \"log_groups\": [], \"run_duration\": \"0:18:53\", \"run_number\": \"23\", \"run_queued_details\": {\"status\": \"Completed\", \"details\": null}}, \"child_runs\": [{\"run_id\": \"AutoML_85c4a436-6987-4b4f-bf3c-b65afc158d64_0\", \"run_number\": 24, \"metric\": null, \"status\": \"Completed\", \"run_type\": null, \"training_percent\": \"100\", \"start_time\": \"2021-10-10T09:57:37.847793Z\", \"end_time\": \"2021-10-10T09:58:05.194995Z\", \"created_time\": \"2021-10-10T09:57:37.686431Z\", \"created_time_dt\": \"2021-10-10T09:57:37.686431Z\", \"duration\": \"0:00:27\", \"iteration\": \"0\", \"goal\": \"spearman_correlation_max\", \"run_name\": \"MaxAbsScaler, LightGBM\", \"run_properties\": \"copy=True\", \"primary_metric\": 0.92630969, \"best_metric\": 0.92630969}, {\"run_id\": \"AutoML_85c4a436-6987-4b4f-bf3c-b65afc158d64_1\", \"run_number\": 25, \"metric\": null, \"status\": \"Completed\", \"run_type\": null, \"training_percent\": \"100\", \"start_time\": \"2021-10-10T09:58:05.666648Z\", \"end_time\": \"2021-10-10T09:58:33.084881Z\", \"created_time\": \"2021-10-10T09:58:05.489015Z\", \"created_time_dt\": \"2021-10-10T09:58:05.489015Z\", \"duration\": \"0:00:27\", \"iteration\": \"1\", \"goal\": \"spearman_correlation_max\", \"run_name\": \"MaxAbsScaler, XGBoostRegressor\", \"run_properties\": \"copy=True\", \"primary_metric\": 0.90524682, \"best_metric\": 0.92630969}, {\"run_id\": \"AutoML_85c4a436-6987-4b4f-bf3c-b65afc158d64_2\", \"run_number\": 26, \"metric\": null, \"status\": \"Completed\", \"run_type\": null, \"training_percent\": \"100\", \"start_time\": \"2021-10-10T09:58:33.985676Z\", \"end_time\": \"2021-10-10T09:59:01.694646Z\", \"created_time\": \"2021-10-10T09:58:33.846635Z\", \"created_time_dt\": \"2021-10-10T09:58:33.846635Z\", \"duration\": \"0:00:27\", \"iteration\": \"2\", \"goal\": \"spearman_correlation_max\", \"run_name\": \"MaxAbsScaler, ElasticNet\", \"run_properties\": \"copy=True\", \"primary_metric\": 0.86025186, \"best_metric\": 0.92630969}, {\"run_id\": \"AutoML_85c4a436-6987-4b4f-bf3c-b65afc158d64_3\", \"run_number\": 27, \"metric\": null, \"status\": \"Completed\", \"run_type\": null, \"training_percent\": \"100\", \"start_time\": \"2021-10-10T09:59:03.258721Z\", \"end_time\": \"2021-10-10T09:59:30.798296Z\", \"created_time\": \"2021-10-10T09:59:03.078676Z\", \"created_time_dt\": \"2021-10-10T09:59:03.078676Z\", \"duration\": \"0:00:27\", \"iteration\": \"3\", \"goal\": \"spearman_correlation_max\", \"run_name\": \"StandardScalerWrapper, XGBoostRegressor\", \"run_properties\": \"\\n    copy=True,\\n    with_mean=False,\\n    with_std=False\\n\", \"primary_metric\": 0.94155432, \"best_metric\": 0.94155432}, {\"run_id\": \"AutoML_85c4a436-6987-4b4f-bf3c-b65afc158d64_4\", \"run_number\": 28, \"metric\": null, \"status\": \"Completed\", \"run_type\": null, \"training_percent\": \"100\", \"start_time\": \"2021-10-10T09:59:32.3401Z\", \"end_time\": \"2021-10-10T09:59:58.255589Z\", \"created_time\": \"2021-10-10T09:59:32.182823Z\", \"created_time_dt\": \"2021-10-10T09:59:32.182823Z\", \"duration\": \"0:00:26\", \"iteration\": \"4\", \"goal\": \"spearman_correlation_max\", \"run_name\": \"StandardScalerWrapper, XGBoostRegressor\", \"run_properties\": \"\\n    copy=True,\\n    with_mean=False,\\n    with_std=False\\n\", \"primary_metric\": 0.89829041, \"best_metric\": 0.94155432}, {\"run_id\": \"AutoML_85c4a436-6987-4b4f-bf3c-b65afc158d64_5\", \"run_number\": 29, \"metric\": null, \"status\": \"Completed\", \"run_type\": null, \"training_percent\": \"100\", \"start_time\": \"2021-10-10T09:59:59.674195Z\", \"end_time\": \"2021-10-10T10:00:25.180832Z\", \"created_time\": \"2021-10-10T09:59:59.523869Z\", \"created_time_dt\": \"2021-10-10T09:59:59.523869Z\", \"duration\": \"0:00:25\", \"iteration\": \"5\", \"goal\": \"spearman_correlation_max\", \"run_name\": \"StandardScalerWrapper, ExtremeRandomTrees\", \"run_properties\": \"\\n    copy=True,\\n    with_mean=False,\\n    with_std=False\\n\", \"primary_metric\": 0.86709897, \"best_metric\": 0.94155432}, {\"run_id\": \"AutoML_85c4a436-6987-4b4f-bf3c-b65afc158d64_6\", \"run_number\": 30, \"metric\": null, \"status\": \"Completed\", \"run_type\": null, \"training_percent\": \"100\", \"start_time\": \"2021-10-10T10:00:26.897376Z\", \"end_time\": \"2021-10-10T10:00:53.589981Z\", \"created_time\": \"2021-10-10T10:00:26.772517Z\", \"created_time_dt\": \"2021-10-10T10:00:26.772517Z\", \"duration\": \"0:00:26\", \"iteration\": \"6\", \"goal\": \"spearman_correlation_max\", \"run_name\": \"StandardScalerWrapper, RandomForest\", \"run_properties\": \"\\n    copy=True,\\n    with_mean=False,\\n    with_std=True\\n\", \"primary_metric\": 0.92590855, \"best_metric\": 0.94155432}, {\"run_id\": \"AutoML_85c4a436-6987-4b4f-bf3c-b65afc158d64_7\", \"run_number\": 31, \"metric\": null, \"status\": \"Completed\", \"run_type\": null, \"training_percent\": \"100\", \"start_time\": \"2021-10-10T10:00:55.503519Z\", \"end_time\": \"2021-10-10T10:01:19.574036Z\", \"created_time\": \"2021-10-10T10:00:55.322759Z\", \"created_time_dt\": \"2021-10-10T10:00:55.322759Z\", \"duration\": \"0:00:24\", \"iteration\": \"7\", \"goal\": \"spearman_correlation_max\", \"run_name\": \"StandardScalerWrapper, DecisionTree\", \"run_properties\": \"\\n    copy=True,\\n    with_mean=False,\\n    with_std=True\\n\", \"primary_metric\": 0.93197429, \"best_metric\": 0.94155432}, {\"run_id\": \"AutoML_85c4a436-6987-4b4f-bf3c-b65afc158d64_8\", \"run_number\": 32, \"metric\": null, \"status\": \"Completed\", \"run_type\": null, \"training_percent\": \"100\", \"start_time\": \"2021-10-10T10:01:21.069025Z\", \"end_time\": \"2021-10-10T10:01:47.763289Z\", \"created_time\": \"2021-10-10T10:01:20.911643Z\", \"created_time_dt\": \"2021-10-10T10:01:20.911643Z\", \"duration\": \"0:00:26\", \"iteration\": \"8\", \"goal\": \"spearman_correlation_max\", \"run_name\": \"StandardScalerWrapper, LightGBM\", \"run_properties\": \"\\n    copy=True,\\n    with_mean=False,\\n    with_std=True\\n\", \"primary_metric\": 0.89144436, \"best_metric\": 0.94155432}, {\"run_id\": \"AutoML_85c4a436-6987-4b4f-bf3c-b65afc158d64_9\", \"run_number\": 33, \"metric\": null, \"status\": \"Completed\", \"run_type\": null, \"training_percent\": \"100\", \"start_time\": \"2021-10-10T10:01:49.315812Z\", \"end_time\": \"2021-10-10T10:02:18.611331Z\", \"created_time\": \"2021-10-10T10:01:49.162579Z\", \"created_time_dt\": \"2021-10-10T10:01:49.162579Z\", \"duration\": \"0:00:29\", \"iteration\": \"9\", \"goal\": \"spearman_correlation_max\", \"run_name\": \"StandardScalerWrapper, LightGBM\", \"run_properties\": \"\\n    copy=True,\\n    with_mean=False,\\n    with_std=False\\n\", \"primary_metric\": 0.86268055, \"best_metric\": 0.94155432}, {\"run_id\": \"AutoML_85c4a436-6987-4b4f-bf3c-b65afc158d64_10\", \"run_number\": 34, \"metric\": null, \"status\": \"Completed\", \"run_type\": null, \"training_percent\": \"100\", \"start_time\": \"2021-10-10T10:02:20.161398Z\", \"end_time\": \"2021-10-10T10:02:44.394523Z\", \"created_time\": \"2021-10-10T10:02:20.004568Z\", \"created_time_dt\": \"2021-10-10T10:02:20.004568Z\", \"duration\": \"0:00:24\", \"iteration\": \"10\", \"goal\": \"spearman_correlation_max\", \"run_name\": \"StandardScalerWrapper, ElasticNet\", \"run_properties\": \"\\n    copy=True,\\n    with_mean=False,\\n    with_std=True\\n\", \"primary_metric\": 0.86277627, \"best_metric\": 0.94155432}, {\"run_id\": \"AutoML_85c4a436-6987-4b4f-bf3c-b65afc158d64_11\", \"run_number\": 35, \"metric\": null, \"status\": \"Completed\", \"run_type\": null, \"training_percent\": \"100\", \"start_time\": \"2021-10-10T10:02:45.861432Z\", \"end_time\": \"2021-10-10T10:03:18.17071Z\", \"created_time\": \"2021-10-10T10:02:45.70456Z\", \"created_time_dt\": \"2021-10-10T10:02:45.70456Z\", \"duration\": \"0:00:32\", \"iteration\": \"11\", \"goal\": \"spearman_correlation_max\", \"run_name\": \"StandardScalerWrapper, ElasticNet\", \"run_properties\": \"\\n    copy=True,\\n    with_mean=False,\\n    with_std=False\\n\", \"primary_metric\": 0.86092716, \"best_metric\": 0.94155432}, {\"run_id\": \"AutoML_85c4a436-6987-4b4f-bf3c-b65afc158d64_12\", \"run_number\": 36, \"metric\": null, \"status\": \"Completed\", \"run_type\": null, \"training_percent\": \"100\", \"start_time\": \"2021-10-10T10:03:19.581877Z\", \"end_time\": \"2021-10-10T10:07:06.758471Z\", \"created_time\": \"2021-10-10T10:03:19.430441Z\", \"created_time_dt\": \"2021-10-10T10:03:19.430441Z\", \"duration\": \"0:03:47\", \"iteration\": \"12\", \"goal\": \"spearman_correlation_max\", \"run_name\": \"MaxAbsScaler, ExtremeRandomTrees\", \"run_properties\": \"copy=True\", \"primary_metric\": 0.93395983, \"best_metric\": 0.94155432}, {\"run_id\": \"AutoML_85c4a436-6987-4b4f-bf3c-b65afc158d64_13\", \"run_number\": 37, \"metric\": null, \"status\": \"Completed\", \"run_type\": null, \"training_percent\": \"100\", \"start_time\": \"2021-10-10T10:07:08.697884Z\", \"end_time\": \"2021-10-10T10:07:37.26299Z\", \"created_time\": \"2021-10-10T10:07:08.530177Z\", \"created_time_dt\": \"2021-10-10T10:07:08.530177Z\", \"duration\": \"0:00:28\", \"iteration\": \"13\", \"goal\": \"spearman_correlation_max\", \"run_name\": \"StandardScalerWrapper, XGBoostRegressor\", \"run_properties\": \"\\n    copy=True,\\n    with_mean=False,\\n    with_std=False\\n\", \"primary_metric\": 0.94315049, \"best_metric\": 0.94315049}, {\"run_id\": \"AutoML_85c4a436-6987-4b4f-bf3c-b65afc158d64_14\", \"run_number\": 38, \"metric\": null, \"status\": \"Completed\", \"run_type\": null, \"training_percent\": \"100\", \"start_time\": \"2021-10-10T10:07:39.034719Z\", \"end_time\": \"2021-10-10T10:08:05.575218Z\", \"created_time\": \"2021-10-10T10:07:38.892273Z\", \"created_time_dt\": \"2021-10-10T10:07:38.892273Z\", \"duration\": \"0:00:26\", \"iteration\": \"14\", \"goal\": \"spearman_correlation_max\", \"run_name\": \"StandardScalerWrapper, DecisionTree\", \"run_properties\": \"\\n    copy=True,\\n    with_mean=False,\\n    with_std=True\\n\", \"primary_metric\": 0.93199584, \"best_metric\": 0.94315049}, {\"run_id\": \"AutoML_85c4a436-6987-4b4f-bf3c-b65afc158d64_15\", \"run_number\": 39, \"metric\": null, \"status\": \"Completed\", \"run_type\": null, \"training_percent\": \"100\", \"start_time\": \"2021-10-10T10:08:07.104124Z\", \"end_time\": \"2021-10-10T10:08:35.506234Z\", \"created_time\": \"2021-10-10T10:08:06.951182Z\", \"created_time_dt\": \"2021-10-10T10:08:06.951182Z\", \"duration\": \"0:00:28\", \"iteration\": \"15\", \"goal\": \"spearman_correlation_max\", \"run_name\": \"StandardScalerWrapper, ElasticNet\", \"run_properties\": \"\\n    copy=True,\\n    with_mean=False,\\n    with_std=True\\n\", \"primary_metric\": 0.86024264, \"best_metric\": 0.94315049}, {\"run_id\": \"AutoML_85c4a436-6987-4b4f-bf3c-b65afc158d64_16\", \"run_number\": 40, \"metric\": null, \"status\": \"Completed\", \"run_type\": null, \"training_percent\": \"100\", \"start_time\": \"2021-10-10T10:08:37.129017Z\", \"end_time\": \"2021-10-10T10:09:08.52085Z\", \"created_time\": \"2021-10-10T10:08:36.981551Z\", \"created_time_dt\": \"2021-10-10T10:08:36.981551Z\", \"duration\": \"0:00:31\", \"iteration\": \"16\", \"goal\": \"spearman_correlation_max\", \"run_name\": \"StandardScalerWrapper, ExtremeRandomTrees\", \"run_properties\": \"\\n    copy=True,\\n    with_mean=False,\\n    with_std=False\\n\", \"primary_metric\": 0.9146697, \"best_metric\": 0.94315049}, {\"run_id\": \"AutoML_85c4a436-6987-4b4f-bf3c-b65afc158d64_17\", \"run_number\": 41, \"metric\": null, \"status\": \"Completed\", \"run_type\": null, \"training_percent\": \"100\", \"start_time\": \"2021-10-10T10:09:10.290582Z\", \"end_time\": \"2021-10-10T10:09:37.506566Z\", \"created_time\": \"2021-10-10T10:09:10.123685Z\", \"created_time_dt\": \"2021-10-10T10:09:10.123685Z\", \"duration\": \"0:00:27\", \"iteration\": \"17\", \"goal\": \"spearman_correlation_max\", \"run_name\": \"MaxAbsScaler, DecisionTree\", \"run_properties\": \"copy=True\", \"primary_metric\": 0.93653849, \"best_metric\": 0.94315049}, {\"run_id\": \"AutoML_85c4a436-6987-4b4f-bf3c-b65afc158d64_18\", \"run_number\": 42, \"metric\": null, \"status\": \"Completed\", \"run_type\": null, \"training_percent\": \"100\", \"start_time\": \"2021-10-10T10:09:39.038687Z\", \"end_time\": \"2021-10-10T10:10:04.74351Z\", \"created_time\": \"2021-10-10T10:09:38.885155Z\", \"created_time_dt\": \"2021-10-10T10:09:38.885155Z\", \"duration\": \"0:00:25\", \"iteration\": \"18\", \"goal\": \"spearman_correlation_max\", \"run_name\": \"MaxAbsScaler, SGD\", \"run_properties\": \"copy=True\", \"primary_metric\": 0.85592957, \"best_metric\": 0.94315049}, {\"run_id\": \"AutoML_85c4a436-6987-4b4f-bf3c-b65afc158d64_19\", \"run_number\": 43, \"metric\": null, \"status\": \"Completed\", \"run_type\": null, \"training_percent\": \"100\", \"start_time\": \"2021-10-10T10:10:06.163586Z\", \"end_time\": \"2021-10-10T10:10:41.792646Z\", \"created_time\": \"2021-10-10T10:10:06.017679Z\", \"created_time_dt\": \"2021-10-10T10:10:06.017679Z\", \"duration\": \"0:00:35\", \"iteration\": \"19\", \"goal\": \"spearman_correlation_max\", \"run_name\": \"SparseNormalizer, XGBoostRegressor\", \"run_properties\": \"copy=True, norm='l1'\", \"primary_metric\": 0.94422971, \"best_metric\": 0.94422971}, {\"run_id\": \"AutoML_85c4a436-6987-4b4f-bf3c-b65afc158d64_20\", \"run_number\": 44, \"metric\": null, \"status\": \"Completed\", \"run_type\": null, \"training_percent\": \"100\", \"start_time\": \"2021-10-10T10:10:43.138887Z\", \"end_time\": \"2021-10-10T10:11:11.070945Z\", \"created_time\": \"2021-10-10T10:10:43.006605Z\", \"created_time_dt\": \"2021-10-10T10:10:43.006605Z\", \"duration\": \"0:00:28\", \"iteration\": \"20\", \"goal\": \"spearman_correlation_max\", \"run_name\": \"MaxAbsScaler, RandomForest\", \"run_properties\": \"copy=True\", \"primary_metric\": 0.92309274, \"best_metric\": 0.94422971}, {\"run_id\": \"AutoML_85c4a436-6987-4b4f-bf3c-b65afc158d64_21\", \"run_number\": 45, \"metric\": null, \"status\": \"Completed\", \"run_type\": null, \"training_percent\": \"100\", \"start_time\": \"2021-10-10T10:11:12.623981Z\", \"end_time\": \"2021-10-10T10:11:49.971194Z\", \"created_time\": \"2021-10-10T10:11:12.463724Z\", \"created_time_dt\": \"2021-10-10T10:11:12.463724Z\", \"duration\": \"0:00:37\", \"iteration\": \"21\", \"goal\": \"spearman_correlation_max\", \"run_name\": \"StandardScalerWrapper, ExtremeRandomTrees\", \"run_properties\": \"\\n    copy=True,\\n    with_mean=False,\\n    with_std=True\\n\", \"primary_metric\": 0.92604038, \"best_metric\": 0.94422971}, {\"run_id\": \"AutoML_85c4a436-6987-4b4f-bf3c-b65afc158d64_22\", \"run_number\": 46, \"metric\": null, \"status\": \"Completed\", \"run_type\": null, \"training_percent\": \"100\", \"start_time\": \"2021-10-10T10:11:51.417427Z\", \"end_time\": \"2021-10-10T10:13:18.746925Z\", \"created_time\": \"2021-10-10T10:11:51.223005Z\", \"created_time_dt\": \"2021-10-10T10:11:51.223005Z\", \"duration\": \"0:01:27\", \"iteration\": \"22\", \"goal\": \"spearman_correlation_max\", \"run_name\": \"SparseNormalizer, GradientBoosting\", \"run_properties\": \"copy=True, norm='l2'\", \"primary_metric\": 0.94594336, \"best_metric\": 0.94594336}, {\"run_id\": \"AutoML_85c4a436-6987-4b4f-bf3c-b65afc158d64_23\", \"run_number\": 47, \"metric\": null, \"status\": \"Completed\", \"run_type\": null, \"training_percent\": \"100\", \"start_time\": \"2021-10-10T10:13:20.261585Z\", \"end_time\": \"2021-10-10T10:13:46.462972Z\", \"created_time\": \"2021-10-10T10:13:20.109738Z\", \"created_time_dt\": \"2021-10-10T10:13:20.109738Z\", \"duration\": \"0:00:26\", \"iteration\": \"23\", \"goal\": \"spearman_correlation_max\", \"run_name\": \"StandardScalerWrapper, ElasticNet\", \"run_properties\": \"\\n    copy=True,\\n    with_mean=False,\\n    with_std=False\\n\", \"primary_metric\": 0.8985005, \"best_metric\": 0.94594336}, {\"run_id\": \"AutoML_85c4a436-6987-4b4f-bf3c-b65afc158d64_24\", \"run_number\": 48, \"metric\": null, \"status\": \"Completed\", \"run_type\": null, \"training_percent\": \"100\", \"start_time\": \"2021-10-10T10:13:48.043953Z\", \"end_time\": \"2021-10-10T10:15:34.01686Z\", \"created_time\": \"2021-10-10T10:13:47.874347Z\", \"created_time_dt\": \"2021-10-10T10:13:47.874347Z\", \"duration\": \"0:01:46\", \"iteration\": \"24\", \"goal\": \"spearman_correlation_max\", \"run_name\": \"SparseNormalizer, RandomForest\", \"run_properties\": \"copy=True, norm='l2'\", \"primary_metric\": 0.91877206, \"best_metric\": 0.94594336}, {\"run_id\": \"AutoML_85c4a436-6987-4b4f-bf3c-b65afc158d64_25\", \"run_number\": 49, \"metric\": null, \"status\": \"Completed\", \"run_type\": null, \"training_percent\": \"100\", \"start_time\": \"2021-10-10T10:15:34.453721Z\", \"end_time\": \"2021-10-10T10:16:19.709806Z\", \"created_time\": \"2021-10-10T10:15:34.312376Z\", \"created_time_dt\": \"2021-10-10T10:15:34.312376Z\", \"duration\": \"0:00:45\", \"iteration\": \"25\", \"goal\": \"spearman_correlation_max\", \"run_name\": \"VotingEnsemble\", \"run_properties\": \"\\n    estimators=[('22', Pipeline(\\n        memory=None,\\n        steps=[('sparsenormalizer', Normalizer(\\n            copy=True,\\n            norm='l2'\\n        \", \"primary_metric\": 0.94317013, \"best_metric\": 0.94594336}], \"children_metrics\": {\"categories\": [0], \"series\": {\"normalized_root_mean_squared_error\": [{\"categories\": [\"0\", \"1\", \"2\", \"3\", \"4\", \"5\", \"6\", \"7\", \"8\", \"9\", \"10\", \"11\", \"12\", \"13\", \"14\", \"15\", \"16\", \"17\", \"18\", \"19\", \"20\", \"21\", \"22\", \"23\", \"24\", \"25\"], \"mode\": \"markers\", \"name\": \"normalized_root_mean_squared_error\", \"stepped\": false, \"type\": \"scatter\", \"data\": [0.005027249664206497, 0.007066169094333189, 0.003960775545353567, 0.006806971540431262, 0.0039520035347327745, 0.004139442521964522, 0.003908269368214543, 0.0039937589274303496, 0.004115180125979825, 0.00435957991457141, 0.003950721617285854, 0.003958612451576468, 0.00402361621574807, 0.006088670385400158, 0.003992716341850665, 0.003952297349589207, 0.004021410324072515, 0.004385608791260874, 0.003961411753594009, 0.007993153946489579, 0.003994306673185786, 0.004084236503161131, 0.0039058931038656966, 0.0038796264802405224, 0.003915133049330664, 0.004634941432444144]}, {\"categories\": [\"0\", \"1\", \"2\", \"3\", \"4\", \"5\", \"6\", \"7\", \"8\", \"9\", \"10\", \"11\", \"12\", \"13\", \"14\", \"15\", \"16\", \"17\", \"18\", \"19\", \"20\", \"21\", \"22\", \"23\", \"24\", \"25\"], \"mode\": \"lines\", \"name\": \"normalized_root_mean_squared_error_min\", \"stepped\": true, \"type\": \"scatter\", \"data\": [0.005027249664206497, 0.005027249664206497, 0.003960775545353567, 0.003960775545353567, 0.0039520035347327745, 0.0039520035347327745, 0.003908269368214543, 0.003908269368214543, 0.003908269368214543, 0.003908269368214543, 0.003908269368214543, 0.003908269368214543, 0.003908269368214543, 0.003908269368214543, 0.003908269368214543, 0.003908269368214543, 0.003908269368214543, 0.003908269368214543, 0.003908269368214543, 0.003908269368214543, 0.003908269368214543, 0.003908269368214543, 0.0039058931038656966, 0.0038796264802405224, 0.0038796264802405224, 0.0038796264802405224]}], \"normalized_median_absolute_error\": [{\"categories\": [\"0\", \"1\", \"2\", \"3\", \"4\", \"5\", \"6\", \"7\", \"8\", \"9\", \"10\", \"11\", \"12\", \"13\", \"14\", \"15\", \"16\", \"17\", \"18\", \"19\", \"20\", \"21\", \"22\", \"23\", \"24\", \"25\"], \"mode\": \"markers\", \"name\": \"normalized_median_absolute_error\", \"stepped\": false, \"type\": \"scatter\", \"data\": [0.00022509050790640167, 0.0002523708112624625, 0.0003044378419868769, 0.00021709153318045347, 0.00029052088918704285, 0.00043127400847246843, 0.00025216818474398063, 0.00023303644889375766, 0.00028541506976967974, 0.00029658546591001167, 0.0002964661458801149, 0.0003040806380517953, 0.0002478661930763928, 0.00021607030908201395, 0.00023361356813206518, 0.000300077172585871, 0.0002459928363820072, 0.00022489658041582004, 0.00030819294914505237, 0.0002173101480481278, 0.0002326682143083676, 0.000231826705710162, 0.00021813476316161613, 0.00027468329609287793, 0.00024285931834878597, 0.00021750503606038672]}, {\"categories\": [\"0\", \"1\", \"2\", \"3\", \"4\", \"5\", \"6\", \"7\", \"8\", \"9\", \"10\", \"11\", \"12\", \"13\", \"14\", \"15\", \"16\", \"17\", \"18\", \"19\", \"20\", \"21\", \"22\", \"23\", \"24\", \"25\"], \"mode\": \"lines\", \"name\": \"normalized_median_absolute_error_min\", \"stepped\": true, \"type\": \"scatter\", \"data\": [0.00022509050790640167, 0.00022509050790640167, 0.00022509050790640167, 0.00021709153318045347, 0.00021709153318045347, 0.00021709153318045347, 0.00021709153318045347, 0.00021709153318045347, 0.00021709153318045347, 0.00021709153318045347, 0.00021709153318045347, 0.00021709153318045347, 0.00021709153318045347, 0.00021607030908201395, 0.00021607030908201395, 0.00021607030908201395, 0.00021607030908201395, 0.00021607030908201395, 0.00021607030908201395, 0.00021607030908201395, 0.00021607030908201395, 0.00021607030908201395, 0.00021607030908201395, 0.00021607030908201395, 0.00021607030908201395, 0.00021607030908201395]}], \"normalized_root_mean_squared_log_error\": [{\"categories\": [\"0\", \"1\", \"2\", \"3\", \"4\", \"5\", \"6\", \"7\", \"8\", \"9\", \"10\", \"11\", \"12\", \"13\", \"14\", \"15\", \"16\", \"17\", \"18\", \"19\", \"20\", \"21\", \"22\", \"23\", \"24\", \"25\"], \"mode\": \"markers\", \"name\": \"normalized_root_mean_squared_log_error\", \"stepped\": false, \"type\": \"scatter\", \"data\": [0.024448481530710768, 0.024308229155804398, 0.03216429919820112, 0.026417783580074433, 0.02918599590787138, 0.038001579150596675, 0.02591501026941368, 0.026789276612915525, 0.031446610496672855, 0.03591471868399376, 0.0317204801568757, 0.032078898308757084, 0.02614823531531723, 0.02460312392868882, 0.026794659627118373, 0.03198423834957173, 0.028690219965664322, 0.027237925453760664, 0.032288938924118125, 0.02479739885932001, 0.02749029180243694, 0.028385088240831406, 0.02266855576000687, 0.027791203784824293, 0.02678096136546739, 0.02414132605012572]}, {\"categories\": [\"0\", \"1\", \"2\", \"3\", \"4\", \"5\", \"6\", \"7\", \"8\", \"9\", \"10\", \"11\", \"12\", \"13\", \"14\", \"15\", \"16\", \"17\", \"18\", \"19\", \"20\", \"21\", \"22\", \"23\", \"24\", \"25\"], \"mode\": \"lines\", \"name\": \"normalized_root_mean_squared_log_error_min\", \"stepped\": true, \"type\": \"scatter\", \"data\": [0.024448481530710768, 0.024308229155804398, 0.024308229155804398, 0.024308229155804398, 0.024308229155804398, 0.024308229155804398, 0.024308229155804398, 0.024308229155804398, 0.024308229155804398, 0.024308229155804398, 0.024308229155804398, 0.024308229155804398, 0.024308229155804398, 0.024308229155804398, 0.024308229155804398, 0.024308229155804398, 0.024308229155804398, 0.024308229155804398, 0.024308229155804398, 0.024308229155804398, 0.024308229155804398, 0.024308229155804398, 0.02266855576000687, 0.02266855576000687, 0.02266855576000687, 0.02266855576000687]}], \"root_mean_squared_log_error\": [{\"categories\": [\"0\", \"1\", \"2\", \"3\", \"4\", \"5\", \"6\", \"7\", \"8\", \"9\", \"10\", \"11\", \"12\", \"13\", \"14\", \"15\", \"16\", \"17\", \"18\", \"19\", \"20\", \"21\", \"22\", \"23\", \"24\", \"25\"], \"mode\": \"markers\", \"name\": \"root_mean_squared_log_error\", \"stepped\": false, \"type\": \"scatter\", \"data\": [0.19199187516797914, 0.19089048502965042, 0.25258354424873086, 0.207456639012496, 0.22919517827552735, 0.29842321419032214, 0.20350840236733186, 0.21037394264533749, 0.2469475950622671, 0.2820352739538813, 0.24909827053664818, 0.2519128982257957, 0.2053398990941496, 0.19320626895071713, 0.21041621500444344, 0.25116954150466386, 0.22530189137801848, 0.21389714436801294, 0.2535623295638503, 0.19473189368872623, 0.2158789561402815, 0.2229057175317891, 0.17801426735834938, 0.218241992702961, 0.21030864370445856, 0.18957980893754398]}, {\"categories\": [\"0\", \"1\", \"2\", \"3\", \"4\", \"5\", \"6\", \"7\", \"8\", \"9\", \"10\", \"11\", \"12\", \"13\", \"14\", \"15\", \"16\", \"17\", \"18\", \"19\", \"20\", \"21\", \"22\", \"23\", \"24\", \"25\"], \"mode\": \"lines\", \"name\": \"root_mean_squared_log_error_min\", \"stepped\": true, \"type\": \"scatter\", \"data\": [0.19199187516797914, 0.19089048502965042, 0.19089048502965042, 0.19089048502965042, 0.19089048502965042, 0.19089048502965042, 0.19089048502965042, 0.19089048502965042, 0.19089048502965042, 0.19089048502965042, 0.19089048502965042, 0.19089048502965042, 0.19089048502965042, 0.19089048502965042, 0.19089048502965042, 0.19089048502965042, 0.19089048502965042, 0.19089048502965042, 0.19089048502965042, 0.19089048502965042, 0.19089048502965042, 0.19089048502965042, 0.17801426735834938, 0.17801426735834938, 0.17801426735834938, 0.17801426735834938]}], \"explained_variance\": [{\"categories\": [\"0\", \"1\", \"2\", \"3\", \"4\", \"5\", \"6\", \"7\", \"8\", \"9\", \"10\", \"11\", \"12\", \"13\", \"14\", \"15\", \"16\", \"17\", \"18\", \"19\", \"20\", \"21\", \"22\", \"23\", \"24\", \"25\"], \"mode\": \"markers\", \"name\": \"explained_variance\", \"stepped\": false, \"type\": \"scatter\", \"data\": [-0.3501815998082105, -6.962656561389579, 0.6293202856713634, -7.302459346284526, 0.6364953238843036, 0.5292724361743175, 0.6564825605100983, 0.612908286996612, 0.5427584253462892, 0.3689261792765741, 0.6344827400934139, 0.6304280866837741, 0.6040193175815397, -3.929307443797505, 0.6134709981396174, 0.6337361934197351, 0.5985626014872995, 0.3415503681665575, 0.6274659708157808, -11.12762535040163, 0.6113434438595922, 0.5596561606313416, 0.6568796565856662, 0.6683083753134592, 0.6522582320268333, -0.01269230318200345]}, {\"categories\": [\"0\", \"1\", \"2\", \"3\", \"4\", \"5\", \"6\", \"7\", \"8\", \"9\", \"10\", \"11\", \"12\", \"13\", \"14\", \"15\", \"16\", \"17\", \"18\", \"19\", \"20\", \"21\", \"22\", \"23\", \"24\", \"25\"], \"mode\": \"lines\", \"name\": \"explained_variance_max\", \"stepped\": true, \"type\": \"scatter\", \"data\": [-0.3501815998082105, -0.3501815998082105, 0.6293202856713634, 0.6293202856713634, 0.6364953238843036, 0.6364953238843036, 0.6564825605100983, 0.6564825605100983, 0.6564825605100983, 0.6564825605100983, 0.6564825605100983, 0.6564825605100983, 0.6564825605100983, 0.6564825605100983, 0.6564825605100983, 0.6564825605100983, 0.6564825605100983, 0.6564825605100983, 0.6564825605100983, 0.6564825605100983, 0.6564825605100983, 0.6564825605100983, 0.6568796565856662, 0.6683083753134592, 0.6683083753134592, 0.6683083753134592]}], \"r2_score\": [{\"categories\": [\"0\", \"1\", \"2\", \"3\", \"4\", \"5\", \"6\", \"7\", \"8\", \"9\", \"10\", \"11\", \"12\", \"13\", \"14\", \"15\", \"16\", \"17\", \"18\", \"19\", \"20\", \"21\", \"22\", \"23\", \"24\", \"25\"], \"mode\": \"markers\", \"name\": \"r2_score\", \"stepped\": false, \"type\": \"scatter\", \"data\": [-0.35154458521125415, -0.7363930451420287, 0.6277749289301933, -0.23318425123329795, 0.6335693540725448, 0.5273058593781076, 0.6545642683715303, 0.6115252911797151, 0.5411495677549019, 0.3675484658894262, 0.6329389174757991, 0.6288833689452582, 0.5969638836836231, -0.28214244470552746, 0.6120870126219384, 0.6321838030618029, 0.5969671290252733, 0.3403308980572894, 0.6267377447547423, -0.46981317039226145, 0.60973580136936, 0.5580438312185643, 0.655800672368553, 0.6668367377153869, 0.6507163861556207, -0.009157754567078857]}, {\"categories\": [\"0\", \"1\", \"2\", \"3\", \"4\", \"5\", \"6\", \"7\", \"8\", \"9\", \"10\", \"11\", \"12\", \"13\", \"14\", \"15\", \"16\", \"17\", \"18\", \"19\", \"20\", \"21\", \"22\", \"23\", \"24\", \"25\"], \"mode\": \"lines\", \"name\": \"r2_score_max\", \"stepped\": true, \"type\": \"scatter\", \"data\": [-0.35154458521125415, -0.35154458521125415, 0.6277749289301933, 0.6277749289301933, 0.6335693540725448, 0.6335693540725448, 0.6545642683715303, 0.6545642683715303, 0.6545642683715303, 0.6545642683715303, 0.6545642683715303, 0.6545642683715303, 0.6545642683715303, 0.6545642683715303, 0.6545642683715303, 0.6545642683715303, 0.6545642683715303, 0.6545642683715303, 0.6545642683715303, 0.6545642683715303, 0.6545642683715303, 0.6545642683715303, 0.655800672368553, 0.6668367377153869, 0.6668367377153869, 0.6668367377153869]}], \"mean_absolute_error\": [{\"categories\": [\"0\", \"1\", \"2\", \"3\", \"4\", \"5\", \"6\", \"7\", \"8\", \"9\", \"10\", \"11\", \"12\", \"13\", \"14\", \"15\", \"16\", \"17\", \"18\", \"19\", \"20\", \"21\", \"22\", \"23\", \"24\", \"25\"], \"mode\": \"markers\", \"name\": \"mean_absolute_error\", \"stepped\": false, \"type\": \"scatter\", \"data\": [2.81904278213051, 3.345629521925903, 3.098817198632992, 2.8458268332998684, 2.9109229988636955, 3.8616103822648578, 2.691008517900748, 2.7127475957303586, 3.0188996278604625, 3.553971051762563, 3.050244623708101, 3.0925950171020156, 2.8784392588614387, 2.737361177916429, 2.7154899318797225, 3.0705201069263426, 2.794120077240208, 2.7305038594495983, 3.1034519841306496, 2.869558351517748, 2.6951996327042127, 2.7248844323992794, 2.461042537437909, 2.768484947965619, 2.661376577841791, 2.537953308198498]}, {\"categories\": [\"0\", \"1\", \"2\", \"3\", \"4\", \"5\", \"6\", \"7\", \"8\", \"9\", \"10\", \"11\", \"12\", \"13\", \"14\", \"15\", \"16\", \"17\", \"18\", \"19\", \"20\", \"21\", \"22\", \"23\", \"24\", \"25\"], \"mode\": \"lines\", \"name\": \"mean_absolute_error_min\", \"stepped\": true, \"type\": \"scatter\", \"data\": [2.81904278213051, 2.81904278213051, 2.81904278213051, 2.81904278213051, 2.81904278213051, 2.81904278213051, 2.691008517900748, 2.691008517900748, 2.691008517900748, 2.691008517900748, 2.691008517900748, 2.691008517900748, 2.691008517900748, 2.691008517900748, 2.691008517900748, 2.691008517900748, 2.691008517900748, 2.691008517900748, 2.691008517900748, 2.691008517900748, 2.691008517900748, 2.691008517900748, 2.461042537437909, 2.461042537437909, 2.461042537437909, 2.461042537437909]}], \"root_mean_squared_error\": [{\"categories\": [\"0\", \"1\", \"2\", \"3\", \"4\", \"5\", \"6\", \"7\", \"8\", \"9\", \"10\", \"11\", \"12\", \"13\", \"14\", \"15\", \"16\", \"17\", \"18\", \"19\", \"20\", \"21\", \"22\", \"23\", \"24\", \"25\"], \"mode\": \"markers\", \"name\": \"root_mean_squared_error\", \"stepped\": false, \"type\": \"scatter\", \"data\": [28.448703124778156, 39.98674428792209, 22.4136327336013, 38.51997125014647, 22.3639928026993, 23.424691287545034, 22.11650552778928, 22.60028239443561, 23.287392814907236, 24.670426778568153, 22.356738560058922, 22.40139200222608, 22.769241803296758, 34.455176843940954, 22.594382506898732, 22.365655471590365, 22.756758882893955, 24.81772158886616, 22.41723297241314, 45.23245886778988, 22.603382032891044, 23.112285947738524, 22.10305848546559, 21.954418289033093, 22.15534641285729, 26.22867007205817]}, {\"categories\": [\"0\", \"1\", \"2\", \"3\", \"4\", \"5\", \"6\", \"7\", \"8\", \"9\", \"10\", \"11\", \"12\", \"13\", \"14\", \"15\", \"16\", \"17\", \"18\", \"19\", \"20\", \"21\", \"22\", \"23\", \"24\", \"25\"], \"mode\": \"lines\", \"name\": \"root_mean_squared_error_min\", \"stepped\": true, \"type\": \"scatter\", \"data\": [28.448703124778156, 28.448703124778156, 22.4136327336013, 22.4136327336013, 22.3639928026993, 22.3639928026993, 22.11650552778928, 22.11650552778928, 22.11650552778928, 22.11650552778928, 22.11650552778928, 22.11650552778928, 22.11650552778928, 22.11650552778928, 22.11650552778928, 22.11650552778928, 22.11650552778928, 22.11650552778928, 22.11650552778928, 22.11650552778928, 22.11650552778928, 22.11650552778928, 22.10305848546559, 21.954418289033093, 21.954418289033093, 21.954418289033093]}], \"median_absolute_error\": [{\"categories\": [\"0\", \"1\", \"2\", \"3\", \"4\", \"5\", \"6\", \"7\", \"8\", \"9\", \"10\", \"11\", \"12\", \"13\", \"14\", \"15\", \"16\", \"17\", \"18\", \"19\", \"20\", \"21\", \"22\", \"23\", \"24\", \"25\"], \"mode\": \"markers\", \"name\": \"median_absolute_error\", \"stepped\": false, \"type\": \"scatter\", \"data\": [1.2737646751915364, 1.4281411838531493, 1.7227833040195377, 1.2284992771148684, 1.6440286598205567, 2.440536486544852, 1.426994540647712, 1.3187299606448855, 1.6151353383196407, 1.6783474930381648, 1.6776722729209823, 1.7207619226713038, 1.402649999999999, 1.222720272064209, 1.3219958207025437, 1.6981067119461855, 1.3920488618021407, 1.272667258915084, 1.7440330799169375, 1.2297363967895507, 1.3166461579496214, 1.311884144943236, 1.2344028112552698, 1.5544053042599866, 1.3743165966039452, 1.2308392485621227]}, {\"categories\": [\"0\", \"1\", \"2\", \"3\", \"4\", \"5\", \"6\", \"7\", \"8\", \"9\", \"10\", \"11\", \"12\", \"13\", \"14\", \"15\", \"16\", \"17\", \"18\", \"19\", \"20\", \"21\", \"22\", \"23\", \"24\", \"25\"], \"mode\": \"lines\", \"name\": \"median_absolute_error_min\", \"stepped\": true, \"type\": \"scatter\", \"data\": [1.2737646751915364, 1.2737646751915364, 1.2737646751915364, 1.2284992771148684, 1.2284992771148684, 1.2284992771148684, 1.2284992771148684, 1.2284992771148684, 1.2284992771148684, 1.2284992771148684, 1.2284992771148684, 1.2284992771148684, 1.2284992771148684, 1.222720272064209, 1.222720272064209, 1.222720272064209, 1.222720272064209, 1.222720272064209, 1.222720272064209, 1.222720272064209, 1.222720272064209, 1.222720272064209, 1.222720272064209, 1.222720272064209, 1.222720272064209, 1.222720272064209]}], \"normalized_mean_absolute_error\": [{\"categories\": [\"0\", \"1\", \"2\", \"3\", \"4\", \"5\", \"6\", \"7\", \"8\", \"9\", \"10\", \"11\", \"12\", \"13\", \"14\", \"15\", \"16\", \"17\", \"18\", \"19\", \"20\", \"21\", \"22\", \"23\", \"24\", \"25\"], \"mode\": \"markers\", \"name\": \"normalized_mean_absolute_error\", \"stepped\": false, \"type\": \"scatter\", \"data\": [0.000498160911507627, 0.0005912155227916914, 0.00054760062885596, 0.0005028939958825687, 0.0005143973208333237, 0.0006823959395403447, 0.00047553561962585444, 0.00047937719269298946, 0.0005334781720582555, 0.0006280321355320933, 0.0005390172336864233, 0.0005465010898057954, 0.0005086570285499723, 0.00048372672744109794, 0.00047986179856150885, 0.0005426001708682505, 0.0004937567508244018, 0.00048251495157178927, 0.0005484196547262983, 0.0005070876586470423, 0.00047627624321055546, 0.0004815219269468058, 0.0004348976899110974, 0.0004892266956414884, 0.000470299276863311, 0.00044848880669361504]}, {\"categories\": [\"0\", \"1\", \"2\", \"3\", \"4\", \"5\", \"6\", \"7\", \"8\", \"9\", \"10\", \"11\", \"12\", \"13\", \"14\", \"15\", \"16\", \"17\", \"18\", \"19\", \"20\", \"21\", \"22\", \"23\", \"24\", \"25\"], \"mode\": \"lines\", \"name\": \"normalized_mean_absolute_error_min\", \"stepped\": true, \"type\": \"scatter\", \"data\": [0.000498160911507627, 0.000498160911507627, 0.000498160911507627, 0.000498160911507627, 0.000498160911507627, 0.000498160911507627, 0.00047553561962585444, 0.00047553561962585444, 0.00047553561962585444, 0.00047553561962585444, 0.00047553561962585444, 0.00047553561962585444, 0.00047553561962585444, 0.00047553561962585444, 0.00047553561962585444, 0.00047553561962585444, 0.00047553561962585444, 0.00047553561962585444, 0.00047553561962585444, 0.00047553561962585444, 0.00047553561962585444, 0.00047553561962585444, 0.0004348976899110974, 0.0004348976899110974, 0.0004348976899110974, 0.0004348976899110974]}], \"mean_absolute_percentage_error\": [{\"categories\": [\"0\", \"1\", \"2\", \"3\", \"4\", \"5\", \"6\", \"7\", \"8\", \"9\", \"10\", \"11\", \"12\", \"13\", \"14\", \"15\", \"16\", \"17\", \"18\", \"19\", \"20\", \"21\", \"22\", \"23\", \"24\", \"25\"], \"mode\": \"markers\", \"name\": \"mean_absolute_percentage_error\", \"stepped\": false, \"type\": \"scatter\", \"data\": [18.385630230663754, 24.38983115040839, 21.568091749170044, 17.87019145476315, 18.904841543482185, 28.7358760415745, 16.88515191061305, 16.322181168986774, 20.543139861670323, 24.776736297306293, 21.312020524760435, 21.51052405059331, 15.862565741779969, 17.231454938883328, 16.33008267133368, 21.643755597924862, 18.13657595037461, 16.921472580896555, 21.52940263336433, 18.788552616642413, 16.861079978090334, 17.462097117712798, 13.669352438292753, 18.503243353216494, 16.898671281346815, 15.182309677181006]}, {\"categories\": [\"0\", \"1\", \"2\", \"3\", \"4\", \"5\", \"6\", \"7\", \"8\", \"9\", \"10\", \"11\", \"12\", \"13\", \"14\", \"15\", \"16\", \"17\", \"18\", \"19\", \"20\", \"21\", \"22\", \"23\", \"24\", \"25\"], \"mode\": \"lines\", \"name\": \"mean_absolute_percentage_error_min\", \"stepped\": true, \"type\": \"scatter\", \"data\": [18.385630230663754, 18.385630230663754, 18.385630230663754, 17.87019145476315, 17.87019145476315, 17.87019145476315, 16.88515191061305, 16.322181168986774, 16.322181168986774, 16.322181168986774, 16.322181168986774, 16.322181168986774, 15.862565741779969, 15.862565741779969, 15.862565741779969, 15.862565741779969, 15.862565741779969, 15.862565741779969, 15.862565741779969, 15.862565741779969, 15.862565741779969, 15.862565741779969, 13.669352438292753, 13.669352438292753, 13.669352438292753, 13.669352438292753]}], \"spearman_correlation\": [{\"categories\": [\"0\", \"1\", \"2\", \"3\", \"4\", \"5\", \"6\", \"7\", \"8\", \"9\", \"10\", \"11\", \"12\", \"13\", \"14\", \"15\", \"16\", \"17\", \"18\", \"19\", \"20\", \"21\", \"22\", \"23\", \"24\", \"25\"], \"mode\": \"markers\", \"name\": \"spearman_correlation\", \"stepped\": false, \"type\": \"scatter\", \"data\": [0.9263096854342099, 0.9052468189709921, 0.8602518592027529, 0.9415543195729652, 0.8982904148915232, 0.8670989683761181, 0.9259085498917715, 0.9319742942556666, 0.891444363156911, 0.8626805528268786, 0.8627762680533699, 0.8609271638319441, 0.9339598327331636, 0.9431504926651237, 0.931995840994883, 0.8602426429571052, 0.9146697006460063, 0.9365384883853325, 0.8559295675908768, 0.9442297136266117, 0.9230927384838539, 0.9260403782030743, 0.9459433589396197, 0.8985004960362737, 0.9187720576960002, 0.9431701261873549]}, {\"categories\": [\"0\", \"1\", \"2\", \"3\", \"4\", \"5\", \"6\", \"7\", \"8\", \"9\", \"10\", \"11\", \"12\", \"13\", \"14\", \"15\", \"16\", \"17\", \"18\", \"19\", \"20\", \"21\", \"22\", \"23\", \"24\", \"25\"], \"mode\": \"lines\", \"name\": \"spearman_correlation_max\", \"stepped\": true, \"type\": \"scatter\", \"data\": [0.9263096854342099, 0.9263096854342099, 0.9263096854342099, 0.9415543195729652, 0.9415543195729652, 0.9415543195729652, 0.9415543195729652, 0.9415543195729652, 0.9415543195729652, 0.9415543195729652, 0.9415543195729652, 0.9415543195729652, 0.9415543195729652, 0.9431504926651237, 0.9431504926651237, 0.9431504926651237, 0.9431504926651237, 0.9431504926651237, 0.9431504926651237, 0.9442297136266117, 0.9442297136266117, 0.9442297136266117, 0.9459433589396197, 0.9459433589396197, 0.9459433589396197, 0.9459433589396197]}]}, \"metricName\": null, \"primaryMetricName\": \"spearman_correlation\", \"showLegend\": false}, \"run_metrics\": [{\"name\": \"root_mean_squared_error\", \"run_id\": \"AutoML_85c4a436-6987-4b4f-bf3c-b65afc158d64\", \"categories\": [0], \"series\": [{\"data\": [22.10305848546559]}]}, {\"name\": \"mean_absolute_error\", \"run_id\": \"AutoML_85c4a436-6987-4b4f-bf3c-b65afc158d64\", \"categories\": [0], \"series\": [{\"data\": [2.461042537437909]}]}, {\"name\": \"mean_absolute_percentage_error\", \"run_id\": \"AutoML_85c4a436-6987-4b4f-bf3c-b65afc158d64\", \"categories\": [0], \"series\": [{\"data\": [13.669352438292753]}]}, {\"name\": \"spearman_correlation\", \"run_id\": \"AutoML_85c4a436-6987-4b4f-bf3c-b65afc158d64\", \"categories\": [0], \"series\": [{\"data\": [0.9459433589396197]}]}, {\"name\": \"normalized_mean_absolute_error\", \"run_id\": \"AutoML_85c4a436-6987-4b4f-bf3c-b65afc158d64\", \"categories\": [0], \"series\": [{\"data\": [0.0004348976899110974]}]}, {\"name\": \"median_absolute_error\", \"run_id\": \"AutoML_85c4a436-6987-4b4f-bf3c-b65afc158d64\", \"categories\": [0], \"series\": [{\"data\": [1.2344028112552698]}]}, {\"name\": \"r2_score\", \"run_id\": \"AutoML_85c4a436-6987-4b4f-bf3c-b65afc158d64\", \"categories\": [0], \"series\": [{\"data\": [0.655800672368553]}]}, {\"name\": \"root_mean_squared_log_error\", \"run_id\": \"AutoML_85c4a436-6987-4b4f-bf3c-b65afc158d64\", \"categories\": [0], \"series\": [{\"data\": [0.17801426735834938]}]}, {\"name\": \"normalized_root_mean_squared_log_error\", \"run_id\": \"AutoML_85c4a436-6987-4b4f-bf3c-b65afc158d64\", \"categories\": [0], \"series\": [{\"data\": [0.02266855576000687]}]}, {\"name\": \"normalized_median_absolute_error\", \"run_id\": \"AutoML_85c4a436-6987-4b4f-bf3c-b65afc158d64\", \"categories\": [0], \"series\": [{\"data\": [0.00021813476316161613]}]}, {\"name\": \"explained_variance\", \"run_id\": \"AutoML_85c4a436-6987-4b4f-bf3c-b65afc158d64\", \"categories\": [0], \"series\": [{\"data\": [0.6568796565856662]}]}, {\"name\": \"normalized_root_mean_squared_error\", \"run_id\": \"AutoML_85c4a436-6987-4b4f-bf3c-b65afc158d64\", \"categories\": [0], \"series\": [{\"data\": [0.0039058931038656966]}]}], \"run_logs\": \"\\nRun is completed.\", \"graph\": {}, \"widget_settings\": {\"childWidgetDisplay\": \"popup\", \"send_telemetry\": false, \"log_level\": \"INFO\", \"sdk_version\": \"1.34.0\"}, \"loading\": false}"
          },
          "metadata": {}
        }
      ],
      "execution_count": 19,
      "metadata": {
        "gather": {
          "logged": 1633861394980
        }
      }
    },
    {
      "cell_type": "markdown",
      "source": [
        "### Retrieve the best model"
      ],
      "metadata": {}
    },
    {
      "cell_type": "markdown",
      "source": [
        "Select the best model from your iterations. The `get_output` function returns the best run and the fitted model for the last fit invocation. By using the overloads on `get_output`, you can retrieve the best run and fitted model for any logged metric or a particular iteration."
      ],
      "metadata": {}
    },
    {
      "cell_type": "code",
      "source": [
        "best_run, fitted_model = local_run.get_output()\n",
        "print(best_run)\n",
        "print(fitted_model)"
      ],
      "outputs": [
        {
          "output_type": "stream",
          "name": "stdout",
          "text": "Run(Experiment: Tutorial-NYCTaxi,\nId: AutoML_85c4a436-6987-4b4f-bf3c-b65afc158d64_22,\nType: None,\nStatus: Completed)\nRegressionPipeline(pipeline=Pipeline(memory=None,\n                                     steps=[('datatransformer',\n                                             DataTransformer(enable_dnn=False, enable_feature_sweeping=False, feature_sweeping_config={}, feature_sweeping_timeout=86400, featurization_config=None, force_text_dnn=False, is_cross_validation=True, is_onnx_compatible=True, observer=None, task='regression', working_dir='/mnt/batch/ta...\n                                                                       min_impurity_decrease=0.0,\n                                                                       min_impurity_split=None,\n                                                                       min_samples_leaf=0.009017208223328022,\n                                                                       min_samples_split=0.0021800253234900498,\n                                                                       min_weight_fraction_leaf=0.0,\n                                                                       n_estimators=400,\n                                                                       n_iter_no_change=None,\n                                                                       presort='deprecated',\n                                                                       random_state=None,\n                                                                       subsample=0.25,\n                                                                       tol=0.0001,\n                                                                       validation_fraction=0.1,\n                                                                       verbose=0,\n                                                                       warm_start=False))],\n                                     verbose=False),\n                   stddev=[41.67948526519011])\n"
        }
      ],
      "execution_count": 20,
      "metadata": {
        "gather": {
          "logged": 1633861421132
        }
      }
    },
    {
      "cell_type": "markdown",
      "source": [
        "### Test the best model accuracy"
      ],
      "metadata": {}
    },
    {
      "cell_type": "markdown",
      "source": [
        "Use the best model to run predictions on the test data set to predict taxi fares. The function `predict` uses the best model and predicts the values of y, **trip cost**, from the `x_test` data set. Print the first 10 predicted cost values from `y_predict`."
      ],
      "metadata": {}
    },
    {
      "cell_type": "code",
      "source": [
        "y_test = x_test.pop(\"totalAmount\")\n",
        "\n",
        "y_predict = fitted_model.predict(x_test)\n",
        "print(y_predict[:10])"
      ],
      "outputs": [
        {
          "output_type": "stream",
          "name": "stdout",
          "text": "[22.91916767  7.77252446  6.92437693 14.71613646  5.55129439 11.10714262\n 45.17991705 10.25330978 15.85072553 18.96169726]\n"
        }
      ],
      "execution_count": 21,
      "metadata": {
        "gather": {
          "logged": 1633861430569
        }
      }
    },
    {
      "cell_type": "markdown",
      "source": [
        "Calculate the `root mean squared error` of the results. Convert the `y_test` dataframe to a list to compare to the predicted values. The function `mean_squared_error` takes two arrays of values and calculates the average squared error between them. Taking the square root of the result gives an error in the same units as the y variable, **cost**. It indicates roughly how far the taxi fare predictions are from the actual fares."
      ],
      "metadata": {}
    },
    {
      "cell_type": "code",
      "source": [
        "from sklearn.metrics import mean_squared_error\n",
        "from math import sqrt\n",
        "\n",
        "y_actual = y_test.values.flatten().tolist()\n",
        "rmse = sqrt(mean_squared_error(y_actual, y_predict))\n",
        "rmse"
      ],
      "outputs": [
        {
          "output_type": "execute_result",
          "execution_count": 22,
          "data": {
            "text/plain": "4.384607068641963"
          },
          "metadata": {}
        }
      ],
      "execution_count": 22,
      "metadata": {
        "gather": {
          "logged": 1633861435625
        }
      }
    },
    {
      "cell_type": "markdown",
      "source": [
        "Run the following code to calculate mean absolute percent error (MAPE) by using the full `y_actual` and `y_predict` data sets. This metric calculates an absolute difference between each predicted and actual value and sums all the differences. Then it expresses that sum as a percent of the total of the actual values."
      ],
      "metadata": {}
    },
    {
      "cell_type": "code",
      "source": [
        "sum_actuals = sum_errors = 0\n",
        "\n",
        "for actual_val, predict_val in zip(y_actual, y_predict):\n",
        "    abs_error = actual_val - predict_val\n",
        "    if abs_error < 0:\n",
        "        abs_error = abs_error * -1\n",
        "\n",
        "    sum_errors = sum_errors + abs_error\n",
        "    sum_actuals = sum_actuals + actual_val\n",
        "\n",
        "mean_abs_percent_error = sum_errors / sum_actuals\n",
        "print(\"Model MAPE:\")\n",
        "print(mean_abs_percent_error)\n",
        "print()\n",
        "print(\"Model Accuracy:\")\n",
        "print(1 - mean_abs_percent_error)"
      ],
      "outputs": [
        {
          "output_type": "stream",
          "name": "stdout",
          "text": "Model MAPE:\n0.1452154424743234\n\nModel Accuracy:\n0.8547845575256766\n"
        }
      ],
      "execution_count": 23,
      "metadata": {
        "gather": {
          "logged": 1633861438868
        }
      }
    },
    {
      "cell_type": "markdown",
      "source": [
        "From the two prediction accuracy metrics, you see that the model is fairly good at predicting taxi fares from the data set's features, typically within +- $4.00, and approximately 15% error. \n",
        "\n",
        "The traditional machine learning model development process is highly resource-intensive, and requires significant domain knowledge and time investment to run and compare the results of dozens of models. Using automated machine learning is a great way to rapidly test many different models for your scenario."
      ],
      "metadata": {}
    },
    {
      "cell_type": "markdown",
      "source": [
        "## Clean up resources"
      ],
      "metadata": {}
    },
    {
      "cell_type": "markdown",
      "source": [
        "# Retrieve the best ONNX model"
      ],
      "metadata": {
        "nteract": {
          "transient": {
            "deleting": false
          }
        }
      }
    },
    {
      "cell_type": "code",
      "source": [
        "best_run, onnx_mdl = local_run.get_output(return_onnx_model=True)\r\n"
      ],
      "outputs": [],
      "execution_count": 24,
      "metadata": {
        "jupyter": {
          "source_hidden": false,
          "outputs_hidden": false
        },
        "nteract": {
          "transient": {
            "deleting": false
          }
        },
        "gather": {
          "logged": 1633861502971
        }
      }
    },
    {
      "cell_type": "markdown",
      "source": [
        "## Save the ONNX Model"
      ],
      "metadata": {
        "nteract": {
          "transient": {
            "deleting": false
          }
        }
      }
    },
    {
      "cell_type": "code",
      "source": [
        "from azureml.automl.runtime.onnx_convert import OnnxConverter\r\n",
        "onnx_fl_path = \"./best_model.onnx\"\r\n",
        "OnnxConverter.save_onnx_model(onnx_mdl, onnx_fl_path)"
      ],
      "outputs": [],
      "execution_count": 25,
      "metadata": {
        "jupyter": {
          "source_hidden": false,
          "outputs_hidden": false
        },
        "nteract": {
          "transient": {
            "deleting": false
          }
        },
        "gather": {
          "logged": 1633861536722
        }
      }
    },
    {
      "cell_type": "markdown",
      "source": [
        "Do not complete this section if you plan on running other Azure Machine Learning service tutorials."
      ],
      "metadata": {}
    },
    {
      "cell_type": "markdown",
      "source": [
        "### Stop the notebook VM"
      ],
      "metadata": {}
    },
    {
      "cell_type": "markdown",
      "source": [
        "If you used a cloud notebook server, stop the VM when you are not using it to reduce cost."
      ],
      "metadata": {}
    },
    {
      "cell_type": "markdown",
      "source": [
        "1. In your workspace, select **Compute**.\n",
        "1. Select the **Notebook VMs** tab in the compute page.\n",
        "1. From the list, select the VM.\n",
        "1. Select **Stop**.\n",
        "1. When you're ready to use the server again, select **Start**."
      ],
      "metadata": {}
    },
    {
      "cell_type": "markdown",
      "source": [
        "### Delete everything"
      ],
      "metadata": {}
    },
    {
      "cell_type": "markdown",
      "source": [
        "If you don't plan to use the resources you created, delete them, so you don't incur any charges."
      ],
      "metadata": {}
    },
    {
      "cell_type": "markdown",
      "source": [
        "1. In the Azure portal, select **Resource groups** on the far left.\n",
        "1. From the list, select the resource group you created.\n",
        "1. Select **Delete resource group**.\n",
        "1. Enter the resource group name. Then select **Delete**.\n",
        "\n",
        "You can also keep the resource group but delete a single workspace. Display the workspace properties and select **Delete**."
      ],
      "metadata": {}
    },
    {
      "cell_type": "markdown",
      "source": [
        "## Next steps"
      ],
      "metadata": {}
    },
    {
      "cell_type": "markdown",
      "source": [
        "In this automated machine learning tutorial, you did the following tasks:\n",
        "\n",
        "> * Configured a workspace and prepared data for an experiment.\n",
        "> * Trained by using an automated regression model locally with custom parameters.\n",
        "> * Explored and reviewed training results.\n",
        "\n",
        "[Deploy your model](https://docs.microsoft.com/azure/machine-learning/service/tutorial-deploy-models-with-aml) with Azure Machine Learning service."
      ],
      "metadata": {}
    },
    {
      "cell_type": "code",
      "source": [],
      "outputs": [],
      "execution_count": null,
      "metadata": {}
    }
  ],
  "metadata": {
    "authors": [
      {
        "name": "jeffshep"
      }
    ],
    "microsoft": {
      "host": {
        "AzureML": {
          "notebookHasBeenCompleted": true
        }
      }
    },
    "network_required": false,
    "kernel_info": {
      "name": "python3-azureml"
    },
    "msauthor": "trbye",
    "language_info": {
      "name": "python",
      "version": "3.6.9",
      "mimetype": "text/x-python",
      "codemirror_mode": {
        "name": "ipython",
        "version": 3
      },
      "pygments_lexer": "ipython3",
      "nbconvert_exporter": "python",
      "file_extension": ".py"
    },
    "kernelspec": {
      "name": "python3-azureml",
      "language": "python",
      "display_name": "Python 3.6 - AzureML"
    },
    "categories": [
      "tutorials"
    ],
    "nteract": {
      "version": "nteract-front-end@1.0.0"
    }
  },
  "nbformat": 4,
  "nbformat_minor": 2
}